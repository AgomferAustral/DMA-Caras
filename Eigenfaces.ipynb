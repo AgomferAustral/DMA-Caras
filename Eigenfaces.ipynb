{
  "nbformat": 4,
  "nbformat_minor": 0,
  "metadata": {
    "colab": {
      "provenance": [],
      "include_colab_link": true
    },
    "kernelspec": {
      "name": "python3",
      "display_name": "Python 3"
    },
    "language_info": {
      "name": "python"
    }
  },
  "cells": [
    {
      "cell_type": "markdown",
      "metadata": {
        "id": "view-in-github",
        "colab_type": "text"
      },
      "source": [
        "<a href=\"https://colab.research.google.com/github/AgomferAustral/DMA-Caras/blob/main/Eigenfaces.ipynb\" target=\"_parent\"><img src=\"https://colab.research.google.com/assets/colab-badge.svg\" alt=\"Open In Colab\"/></a>"
      ]
    },
    {
      "source": [
        "# conexion al Google Drive\n",
        "from google.colab import drive\n",
        "drive.mount('/content/drive')"
      ],
      "cell_type": "code",
      "metadata": {
        "colab": {
          "base_uri": "https://localhost:8080/"
        },
        "id": "WYbCH9LO3Acj",
        "outputId": "f7abf224-8ae7-4223-92c8-dcf9ceda0a89"
      },
      "execution_count": 1,
      "outputs": [
        {
          "output_type": "stream",
          "name": "stdout",
          "text": [
            "Mounted at /content/drive\n"
          ]
        }
      ]
    },
    {
      "source": [
        "# Importacion de librerias\n",
        "import mediapipe as mp"
      ],
      "cell_type": "code",
      "metadata": {
        "id": "0ssP3bZH3dZR",
        "collapsed": true
      },
      "execution_count": null,
      "outputs": []
    },
    {
      "cell_type": "code",
      "source": [
        "import os\n",
        "import cv2\n",
        "import sys\n",
        "import numpy as np"
      ],
      "metadata": {
        "id": "SEqwIhmUhJU9"
      },
      "execution_count": 8,
      "outputs": []
    },
    {
      "source": [
        "#!pip install --upgrade numpy\n",
        "#!pip install --upgrade scipy"
      ],
      "cell_type": "code",
      "metadata": {
        "collapsed": true,
        "id": "TyyBLLrOCOwP",
        "colab": {
          "base_uri": "https://localhost:8080/"
        },
        "outputId": "983cd1e8-81c0-47fc-96b9-b3592eaabc99"
      },
      "execution_count": null,
      "outputs": [
        {
          "output_type": "stream",
          "name": "stdout",
          "text": [
            "Requirement already satisfied: numpy in /usr/local/lib/python3.11/dist-packages (1.26.4)\n",
            "Collecting numpy\n",
            "  Using cached numpy-2.2.4-cp311-cp311-manylinux_2_17_x86_64.manylinux2014_x86_64.whl.metadata (62 kB)\n",
            "Using cached numpy-2.2.4-cp311-cp311-manylinux_2_17_x86_64.manylinux2014_x86_64.whl (16.4 MB)\n",
            "Installing collected packages: numpy\n",
            "  Attempting uninstall: numpy\n",
            "    Found existing installation: numpy 1.26.4\n",
            "    Uninstalling numpy-1.26.4:\n",
            "      Successfully uninstalled numpy-1.26.4\n",
            "\u001b[31mERROR: pip's dependency resolver does not currently take into account all the packages that are installed. This behaviour is the source of the following dependency conflicts.\n",
            "mediapipe 0.10.21 requires numpy<2, but you have numpy 2.2.4 which is incompatible.\n",
            "numba 0.60.0 requires numpy<2.1,>=1.22, but you have numpy 2.2.4 which is incompatible.\n",
            "tensorflow 2.18.0 requires numpy<2.1.0,>=1.26.0, but you have numpy 2.2.4 which is incompatible.\u001b[0m\u001b[31m\n",
            "\u001b[0mSuccessfully installed numpy-2.2.4\n",
            "Requirement already satisfied: scipy in /usr/local/lib/python3.11/dist-packages (1.15.2)\n",
            "Requirement already satisfied: numpy<2.5,>=1.23.5 in /usr/local/lib/python3.11/dist-packages (from scipy) (2.2.4)\n"
          ]
        }
      ]
    },
    {
      "cell_type": "code",
      "source": [
        " #!pip install --upgrade mediapipe"
      ],
      "metadata": {
        "collapsed": true,
        "id": "V3pZH_qBIKzB"
      },
      "execution_count": null,
      "outputs": []
    },
    {
      "source": [
        "# Definicion de ruta de conexion\n",
        "ruta_entrada = '/content/drive/MyDrive/Eigenfaces'\n",
        "ruta_salida = '/content/drive/MyDrive/Eigenfaces70x70'"
      ],
      "cell_type": "code",
      "metadata": {
        "id": "_pFRsi5H3x0-"
      },
      "execution_count": 9,
      "outputs": []
    },
    {
      "cell_type": "code",
      "source": [
        "# prompt: verificar si la carpeta en \"ruta_salida\" existe. Si no existe, crearla\n",
        "\n",
        "if not os.path.exists(ruta_salida):\n",
        "  os.makedirs(ruta_salida)\n"
      ],
      "metadata": {
        "id": "R9Pq2yVfWQAE"
      },
      "execution_count": 10,
      "outputs": []
    },
    {
      "cell_type": "code",
      "source": [
        "def procesar_archivos_en_carpetas(ruta_principal,ruta_final):\n",
        "  \"\"\"Recorre las carpetas dentro de la ruta principal y procesa los archivos.\n",
        "\n",
        "  Args:\n",
        "    ruta_principal: La ruta de la carpeta principal.\n",
        "  \"\"\"\n",
        "  print(f\"Ruta principal: {ruta_principal}\")\n",
        "  for carpeta_actual, _, archivos in os.walk(ruta_principal):\n",
        "    print(f\"Carpeta actual: {carpeta_actual}\")\n",
        "    for archivo in archivos:\n",
        "      print(f\"Archivo: {archivo}\")\n",
        "      ruta_completa = os.path.join(carpeta_actual, archivo)\n",
        "      try:\n",
        "        # Aquí va el código para procesar el archivo\n",
        "        # Por ejemplo, leer el archivo y realizar alguna operación\n",
        "\n",
        "        with open(ruta_completa, 'r') as f:\n",
        "          contenido = f.read()\n",
        "          print(f\"Contenido del Archivo {ruta_completa}\")\n",
        "\n",
        "      except Exception as e:\n",
        "        print(f\"Error al procesar el archivo {ruta_completa}: {e}\")\n",
        "\n",
        "# Ejemplo de uso:\n",
        "print(\"Procesando archivos\")\n",
        "procesar_archivos_en_carpetas(ruta_entrada, ruta_salida)\n",
        "print(\"Proceso inicial terminado ...\")"
      ],
      "metadata": {
        "id": "-9otdo5QIG_W",
        "outputId": "bf6e7d62-23e9-496a-f77a-907f53ad01c3",
        "colab": {
          "base_uri": "https://localhost:8080/"
        }
      },
      "execution_count": null,
      "outputs": [
        {
          "output_type": "stream",
          "name": "stdout",
          "text": [
            "Procesando archivos\n",
            "Ruta principal: /content/drive/MyDrive/Eigenfaces\n",
            "Carpeta actual: /content/drive/MyDrive/Eigenfaces\n",
            "Carpeta actual: /content/drive/MyDrive/Eigenfaces/Noelia R\n",
            "Archivo: 1742907849929.jpg\n",
            "Error al procesar el archivo /content/drive/MyDrive/Eigenfaces/Noelia R/1742907849929.jpg: 'utf-8' codec can't decode byte 0xff in position 0: invalid start byte\n",
            "Archivo: 20250321_170637.jpg\n",
            "Error al procesar el archivo /content/drive/MyDrive/Eigenfaces/Noelia R/20250321_170637.jpg: 'utf-8' codec can't decode byte 0xff in position 0: invalid start byte\n",
            "Archivo: IMG_4185.JPG\n",
            "Error al procesar el archivo /content/drive/MyDrive/Eigenfaces/Noelia R/IMG_4185.JPG: 'utf-8' codec can't decode byte 0xff in position 0: invalid start byte\n",
            "Archivo: IMG_20250321_170629085.jpg\n",
            "Error al procesar el archivo /content/drive/MyDrive/Eigenfaces/Noelia R/IMG_20250321_170629085.jpg: 'utf-8' codec can't decode byte 0xff in position 0: invalid start byte\n",
            "Archivo: IMG_6804.jpeg\n",
            "Error al procesar el archivo /content/drive/MyDrive/Eigenfaces/Noelia R/IMG_6804.jpeg: 'utf-8' codec can't decode byte 0xff in position 0: invalid start byte\n",
            "Archivo: 1742907849918.jpg\n",
            "Error al procesar el archivo /content/drive/MyDrive/Eigenfaces/Noelia R/1742907849918.jpg: 'utf-8' codec can't decode byte 0xff in position 0: invalid start byte\n",
            "Archivo: IMG_4184.JPG\n",
            "Error al procesar el archivo /content/drive/MyDrive/Eigenfaces/Noelia R/IMG_4184.JPG: 'utf-8' codec can't decode byte 0xff in position 0: invalid start byte\n",
            "Archivo: IMG_20250321_140824265.jpg\n",
            "Error al procesar el archivo /content/drive/MyDrive/Eigenfaces/Noelia R/IMG_20250321_140824265.jpg: 'utf-8' codec can't decode byte 0xff in position 0: invalid start byte\n",
            "Archivo: 20250321_170639.jpg\n",
            "Error al procesar el archivo /content/drive/MyDrive/Eigenfaces/Noelia R/20250321_170639.jpg: 'utf-8' codec can't decode byte 0xff in position 0: invalid start byte\n",
            "Archivo: 1742907849908.jpg\n",
            "Error al procesar el archivo /content/drive/MyDrive/Eigenfaces/Noelia R/1742907849908.jpg: 'utf-8' codec can't decode byte 0xff in position 0: invalid start byte\n",
            "Archivo: IMG_20250321_170631563.jpg\n",
            "Error al procesar el archivo /content/drive/MyDrive/Eigenfaces/Noelia R/IMG_20250321_170631563.jpg: 'utf-8' codec can't decode byte 0xff in position 0: invalid start byte\n",
            "Archivo: IMG_7655.JPG\n",
            "Error al procesar el archivo /content/drive/MyDrive/Eigenfaces/Noelia R/IMG_7655.JPG: 'utf-8' codec can't decode byte 0xff in position 0: invalid start byte\n",
            "Archivo: IMG_6802.jpeg\n",
            "Error al procesar el archivo /content/drive/MyDrive/Eigenfaces/Noelia R/IMG_6802.jpeg: 'utf-8' codec can't decode byte 0xff in position 0: invalid start byte\n",
            "Archivo: IMG_1106.JPG\n",
            "Error al procesar el archivo /content/drive/MyDrive/Eigenfaces/Noelia R/IMG_1106.JPG: 'utf-8' codec can't decode byte 0xff in position 0: invalid start byte\n",
            "Archivo: 20250321_170641.jpg\n",
            "Error al procesar el archivo /content/drive/MyDrive/Eigenfaces/Noelia R/20250321_170641.jpg: 'utf-8' codec can't decode byte 0xff in position 0: invalid start byte\n",
            "Archivo: IMG_4186.JPG\n",
            "Error al procesar el archivo /content/drive/MyDrive/Eigenfaces/Noelia R/IMG_4186.JPG: 'utf-8' codec can't decode byte 0xff in position 0: invalid start byte\n",
            "Archivo: IMG_20250321_170634292.jpg\n",
            "Error al procesar el archivo /content/drive/MyDrive/Eigenfaces/Noelia R/IMG_20250321_170634292.jpg: 'utf-8' codec can't decode byte 0xff in position 0: invalid start byte\n",
            "Archivo: IMG_1105.JPG\n",
            "Error al procesar el archivo /content/drive/MyDrive/Eigenfaces/Noelia R/IMG_1105.JPG: 'utf-8' codec can't decode byte 0xff in position 0: invalid start byte\n",
            "Archivo: IMG_7657.JPG\n",
            "Error al procesar el archivo /content/drive/MyDrive/Eigenfaces/Noelia R/IMG_7657.JPG: 'utf-8' codec can't decode byte 0xff in position 0: invalid start byte\n",
            "Archivo: IMG_6803.jpeg\n",
            "Error al procesar el archivo /content/drive/MyDrive/Eigenfaces/Noelia R/IMG_6803.jpeg: 'utf-8' codec can't decode byte 0xff in position 0: invalid start byte\n",
            "Archivo: IMG_7655 2.JPG\n",
            "Error al procesar el archivo /content/drive/MyDrive/Eigenfaces/Noelia R/IMG_7655 2.JPG: 'utf-8' codec can't decode byte 0xff in position 0: invalid start byte\n",
            "Archivo: IMG_1104.JPG\n",
            "Error al procesar el archivo /content/drive/MyDrive/Eigenfaces/Noelia R/IMG_1104.JPG: 'utf-8' codec can't decode byte 0xff in position 0: invalid start byte\n",
            "Carpeta actual: /content/drive/MyDrive/Eigenfaces/Natalia\n",
            "Archivo: IMG_4164.JPG\n",
            "Error al procesar el archivo /content/drive/MyDrive/Eigenfaces/Natalia/IMG_4164.JPG: 'utf-8' codec can't decode byte 0xff in position 0: invalid start byte\n",
            "Archivo: 20250321_140636.jpg\n",
            "Error al procesar el archivo /content/drive/MyDrive/Eigenfaces/Natalia/20250321_140636.jpg: 'utf-8' codec can't decode byte 0xff in position 0: invalid start byte\n",
            "Archivo: 1742907849896.jpg\n",
            "Error al procesar el archivo /content/drive/MyDrive/Eigenfaces/Natalia/1742907849896.jpg: 'utf-8' codec can't decode byte 0xff in position 0: invalid start byte\n",
            "Archivo: IMG_1068.JPG\n",
            "Error al procesar el archivo /content/drive/MyDrive/Eigenfaces/Natalia/IMG_1068.JPG: 'utf-8' codec can't decode byte 0xff in position 0: invalid start byte\n",
            "Archivo: IMG_7639 2.JPG\n",
            "Error al procesar el archivo /content/drive/MyDrive/Eigenfaces/Natalia/IMG_7639 2.JPG: 'utf-8' codec can't decode byte 0xff in position 0: invalid start byte\n",
            "Archivo: IMG_4165.JPG\n",
            "Error al procesar el archivo /content/drive/MyDrive/Eigenfaces/Natalia/IMG_4165.JPG: 'utf-8' codec can't decode byte 0xff in position 0: invalid start byte\n",
            "Archivo: IMG_1070.JPG\n",
            "Error al procesar el archivo /content/drive/MyDrive/Eigenfaces/Natalia/IMG_1070.JPG: 'utf-8' codec can't decode byte 0xff in position 0: invalid start byte\n",
            "Archivo: IMG_8676.jpeg\n",
            "Error al procesar el archivo /content/drive/MyDrive/Eigenfaces/Natalia/IMG_8676.jpeg: 'utf-8' codec can't decode byte 0xff in position 0: invalid start byte\n",
            "Archivo: IMG_20250321_140447827_HDR.jpg\n",
            "Error al procesar el archivo /content/drive/MyDrive/Eigenfaces/Natalia/IMG_20250321_140447827_HDR.jpg: 'utf-8' codec can't decode byte 0xff in position 0: invalid start byte\n",
            "Archivo: 1742907849879.jpg\n",
            "Error al procesar el archivo /content/drive/MyDrive/Eigenfaces/Natalia/1742907849879.jpg: 'utf-8' codec can't decode byte 0xff in position 0: invalid start byte\n",
            "Archivo: IMG_8675.jpeg\n",
            "Error al procesar el archivo /content/drive/MyDrive/Eigenfaces/Natalia/IMG_8675.jpeg: 'utf-8' codec can't decode byte 0xff in position 0: invalid start byte\n",
            "Archivo: IMG_7640 2.JPG\n",
            "Error al procesar el archivo /content/drive/MyDrive/Eigenfaces/Natalia/IMG_7640 2.JPG: 'utf-8' codec can't decode byte 0xff in position 0: invalid start byte\n",
            "Archivo: 1742907849888.jpg\n",
            "Error al procesar el archivo /content/drive/MyDrive/Eigenfaces/Natalia/1742907849888.jpg: 'utf-8' codec can't decode byte 0xff in position 0: invalid start byte\n",
            "Archivo: IMG_7639.JPG\n",
            "Error al procesar el archivo /content/drive/MyDrive/Eigenfaces/Natalia/IMG_7639.JPG: 'utf-8' codec can't decode byte 0xff in position 0: invalid start byte\n",
            "Archivo: 20250321_140638.jpg\n",
            "Error al procesar el archivo /content/drive/MyDrive/Eigenfaces/Natalia/20250321_140638.jpg: 'utf-8' codec can't decode byte 0xff in position 0: invalid start byte\n",
            "Archivo: 20250321_140633.jpg\n",
            "Error al procesar el archivo /content/drive/MyDrive/Eigenfaces/Natalia/20250321_140633.jpg: 'utf-8' codec can't decode byte 0xff in position 0: invalid start byte\n",
            "Archivo: IMG_20250321_140446409_HDR.jpg\n",
            "Error al procesar el archivo /content/drive/MyDrive/Eigenfaces/Natalia/IMG_20250321_140446409_HDR.jpg: 'utf-8' codec can't decode byte 0xff in position 0: invalid start byte\n",
            "Archivo: IMG_8677.jpeg\n",
            "Error al procesar el archivo /content/drive/MyDrive/Eigenfaces/Natalia/IMG_8677.jpeg: 'utf-8' codec can't decode byte 0xff in position 0: invalid start byte\n",
            "Archivo: IMG_1069.JPG\n",
            "Error al procesar el archivo /content/drive/MyDrive/Eigenfaces/Natalia/IMG_1069.JPG: 'utf-8' codec can't decode byte 0xff in position 0: invalid start byte\n",
            "Archivo: IMG_20250321_140449310_HDR.jpg\n",
            "Error al procesar el archivo /content/drive/MyDrive/Eigenfaces/Natalia/IMG_20250321_140449310_HDR.jpg: 'utf-8' codec can't decode byte 0xff in position 0: invalid start byte\n",
            "Archivo: IMG_4166.JPG\n",
            "Error al procesar el archivo /content/drive/MyDrive/Eigenfaces/Natalia/IMG_4166.JPG: 'utf-8' codec can't decode byte 0xff in position 0: invalid start byte\n",
            "Carpeta actual: /content/drive/MyDrive/Eigenfaces/Daniel\n",
            "Archivo: 1742907849868.jpg\n",
            "Error al procesar el archivo /content/drive/MyDrive/Eigenfaces/Daniel/1742907849868.jpg: 'utf-8' codec can't decode byte 0xff in position 0: invalid start byte\n",
            "Archivo: 20250321_140852.jpg\n",
            "Error al procesar el archivo /content/drive/MyDrive/Eigenfaces/Daniel/20250321_140852.jpg: 'utf-8' codec can't decode byte 0xff in position 0: invalid start byte\n",
            "Archivo: 20250321_140850.jpg\n",
            "Error al procesar el archivo /content/drive/MyDrive/Eigenfaces/Daniel/20250321_140850.jpg: 'utf-8' codec can't decode byte 0xff in position 0: invalid start byte\n",
            "Archivo: IMG_8673.jpeg\n",
            "Error al procesar el archivo /content/drive/MyDrive/Eigenfaces/Daniel/IMG_8673.jpeg: 'utf-8' codec can't decode byte 0xff in position 0: invalid start byte\n",
            "Archivo: IMG_6814.jpeg\n",
            "Error al procesar el archivo /content/drive/MyDrive/Eigenfaces/Daniel/IMG_6814.jpeg: 'utf-8' codec can't decode byte 0xff in position 0: invalid start byte\n",
            "Archivo: IMG_20250321_140517288.jpg\n",
            "Error al procesar el archivo /content/drive/MyDrive/Eigenfaces/Daniel/IMG_20250321_140517288.jpg: 'utf-8' codec can't decode byte 0xff in position 0: invalid start byte\n",
            "Archivo: IMG_7667 2.JPG\n",
            "Error al procesar el archivo /content/drive/MyDrive/Eigenfaces/Daniel/IMG_7667 2.JPG: 'utf-8' codec can't decode byte 0xff in position 0: invalid start byte\n",
            "Archivo: IMG_8672.jpeg\n",
            "Error al procesar el archivo /content/drive/MyDrive/Eigenfaces/Daniel/IMG_8672.jpeg: 'utf-8' codec can't decode byte 0xff in position 0: invalid start byte\n",
            "Archivo: IMG_4167.JPG\n",
            "Error al procesar el archivo /content/drive/MyDrive/Eigenfaces/Daniel/IMG_4167.JPG: 'utf-8' codec can't decode byte 0xff in position 0: invalid start byte\n",
            "Archivo: IMG_20250321_140511746.jpg\n",
            "Error al procesar el archivo /content/drive/MyDrive/Eigenfaces/Daniel/IMG_20250321_140511746.jpg: 'utf-8' codec can't decode byte 0xff in position 0: invalid start byte\n",
            "Archivo: IMG_6816.jpeg\n",
            "Error al procesar el archivo /content/drive/MyDrive/Eigenfaces/Daniel/IMG_6816.jpeg: 'utf-8' codec can't decode byte 0xff in position 0: invalid start byte\n",
            "Archivo: 20250321_140848.jpg\n",
            "Error al procesar el archivo /content/drive/MyDrive/Eigenfaces/Daniel/20250321_140848.jpg: 'utf-8' codec can't decode byte 0xff in position 0: invalid start byte\n",
            "Archivo: IMG_4168.JPG\n",
            "Error al procesar el archivo /content/drive/MyDrive/Eigenfaces/Daniel/IMG_4168.JPG: 'utf-8' codec can't decode byte 0xff in position 0: invalid start byte\n",
            "Archivo: IMG_1067.JPG\n",
            "Error al procesar el archivo /content/drive/MyDrive/Eigenfaces/Daniel/IMG_1067.JPG: 'utf-8' codec can't decode byte 0xff in position 0: invalid start byte\n",
            "Archivo: IMG_6815.jpeg\n",
            "Error al procesar el archivo /content/drive/MyDrive/Eigenfaces/Daniel/IMG_6815.jpeg: 'utf-8' codec can't decode byte 0xff in position 0: invalid start byte\n",
            "Archivo: IMG_20250321_140514444.jpg\n",
            "Error al procesar el archivo /content/drive/MyDrive/Eigenfaces/Daniel/IMG_20250321_140514444.jpg: 'utf-8' codec can't decode byte 0xff in position 0: invalid start byte\n",
            "Archivo: IMG_7667.JPG\n",
            "Error al procesar el archivo /content/drive/MyDrive/Eigenfaces/Daniel/IMG_7667.JPG: 'utf-8' codec can't decode byte 0xff in position 0: invalid start byte\n",
            "Archivo: IMG_4169.JPG\n",
            "Error al procesar el archivo /content/drive/MyDrive/Eigenfaces/Daniel/IMG_4169.JPG: 'utf-8' codec can't decode byte 0xff in position 0: invalid start byte\n",
            "Archivo: IMG_8674.jpeg\n",
            "Error al procesar el archivo /content/drive/MyDrive/Eigenfaces/Daniel/IMG_8674.jpeg: 'utf-8' codec can't decode byte 0xff in position 0: invalid start byte\n",
            "Archivo: IMG_7668 2.JPG\n",
            "Error al procesar el archivo /content/drive/MyDrive/Eigenfaces/Daniel/IMG_7668 2.JPG: 'utf-8' codec can't decode byte 0xff in position 0: invalid start byte\n",
            "Archivo: IMG_1065.JPG\n",
            "Error al procesar el archivo /content/drive/MyDrive/Eigenfaces/Daniel/IMG_1065.JPG: 'utf-8' codec can't decode byte 0xff in position 0: invalid start byte\n",
            "Archivo: 1742907849861.jpg\n",
            "Error al procesar el archivo /content/drive/MyDrive/Eigenfaces/Daniel/1742907849861.jpg: 'utf-8' codec can't decode byte 0xff in position 0: invalid start byte\n",
            "Archivo: 1742907849853.jpg\n",
            "Error al procesar el archivo /content/drive/MyDrive/Eigenfaces/Daniel/1742907849853.jpg: 'utf-8' codec can't decode byte 0xff in position 0: invalid start byte\n",
            "Archivo: IMG_1066.JPG\n",
            "Error al procesar el archivo /content/drive/MyDrive/Eigenfaces/Daniel/IMG_1066.JPG: 'utf-8' codec can't decode byte 0xff in position 0: invalid start byte\n",
            "Carpeta actual: /content/drive/MyDrive/Eigenfaces/Agustín\n",
            "Archivo: IMG_20250321_140715339.jpg\n",
            "Error al procesar el archivo /content/drive/MyDrive/Eigenfaces/Agustín/IMG_20250321_140715339.jpg: 'utf-8' codec can't decode byte 0xff in position 0: invalid start byte\n",
            "Archivo: IMG_6789.jpeg\n",
            "Error al procesar el archivo /content/drive/MyDrive/Eigenfaces/Agustín/IMG_6789.jpeg: 'utf-8' codec can't decode byte 0xff in position 0: invalid start byte\n",
            "Archivo: IMG_6790.jpeg\n",
            "Error al procesar el archivo /content/drive/MyDrive/Eigenfaces/Agustín/IMG_6790.jpeg: 'utf-8' codec can't decode byte 0xff in position 0: invalid start byte\n",
            "Archivo: IMG_20250321_140718770_HDR.jpg\n",
            "Error al procesar el archivo /content/drive/MyDrive/Eigenfaces/Agustín/IMG_20250321_140718770_HDR.jpg: 'utf-8' codec can't decode byte 0xff in position 0: invalid start byte\n",
            "Archivo: IMG_7609 2.JPG\n",
            "Error al procesar el archivo /content/drive/MyDrive/Eigenfaces/Agustín/IMG_7609 2.JPG: 'utf-8' codec can't decode byte 0xff in position 0: invalid start byte\n",
            "Archivo: IMG_4174.JPG\n",
            "Error al procesar el archivo /content/drive/MyDrive/Eigenfaces/Agustín/IMG_4174.JPG: 'utf-8' codec can't decode byte 0xff in position 0: invalid start byte\n",
            "Archivo: IMG_4176.JPG\n",
            "Error al procesar el archivo /content/drive/MyDrive/Eigenfaces/Agustín/IMG_4176.JPG: 'utf-8' codec can't decode byte 0xff in position 0: invalid start byte\n",
            "Archivo: 20250321_140319.jpg\n",
            "Error al procesar el archivo /content/drive/MyDrive/Eigenfaces/Agustín/20250321_140319.jpg: 'utf-8' codec can't decode byte 0xff in position 0: invalid start byte\n",
            "Archivo: IMG_8671.jpeg\n",
            "Error al procesar el archivo /content/drive/MyDrive/Eigenfaces/Agustín/IMG_8671.jpeg: 'utf-8' codec can't decode byte 0xff in position 0: invalid start byte\n",
            "Archivo: IMG_20250321_140716918_HDR.jpg\n",
            "Error al procesar el archivo /content/drive/MyDrive/Eigenfaces/Agustín/IMG_20250321_140716918_HDR.jpg: 'utf-8' codec can't decode byte 0xff in position 0: invalid start byte\n",
            "Archivo: IMG_7609.JPG\n",
            "Error al procesar el archivo /content/drive/MyDrive/Eigenfaces/Agustín/IMG_7609.JPG: 'utf-8' codec can't decode byte 0xff in position 0: invalid start byte\n",
            "Archivo: 1742907850098.jpg\n",
            "Error al procesar el archivo /content/drive/MyDrive/Eigenfaces/Agustín/1742907850098.jpg: 'utf-8' codec can't decode byte 0xff in position 0: invalid start byte\n",
            "Archivo: IMG_1086.JPG\n",
            "Error al procesar el archivo /content/drive/MyDrive/Eigenfaces/Agustín/IMG_1086.JPG: 'utf-8' codec can't decode byte 0xff in position 0: invalid start byte\n",
            "Archivo: IMG_7613 2.JPG\n",
            "Error al procesar el archivo /content/drive/MyDrive/Eigenfaces/Agustín/IMG_7613 2.JPG: 'utf-8' codec can't decode byte 0xff in position 0: invalid start byte\n",
            "Archivo: IMG_1084.JPG\n",
            "Error al procesar el archivo /content/drive/MyDrive/Eigenfaces/Agustín/IMG_1084.JPG: 'utf-8' codec can't decode byte 0xff in position 0: invalid start byte\n",
            "Archivo: IMG_6791.jpeg\n",
            "Error al procesar el archivo /content/drive/MyDrive/Eigenfaces/Agustín/IMG_6791.jpeg: 'utf-8' codec can't decode byte 0xff in position 0: invalid start byte\n",
            "Archivo: 1742907850091.jpg\n",
            "Error al procesar el archivo /content/drive/MyDrive/Eigenfaces/Agustín/1742907850091.jpg: 'utf-8' codec can't decode byte 0xff in position 0: invalid start byte\n",
            "Archivo: 20250321_140317.jpg\n"
          ]
        }
      ]
    },
    {
      "cell_type": "code",
      "source": [],
      "metadata": {
        "id": "8CaIPvpaKVWW"
      },
      "execution_count": null,
      "outputs": []
    },
    {
      "cell_type": "code",
      "source": [],
      "metadata": {
        "id": "HRXwLvFkIGfM"
      },
      "execution_count": null,
      "outputs": []
    },
    {
      "source": [
        "# Carga de imagenes\n",
        "imagenes = []\n",
        "for nombre_archivo in os.listdir(ruta_imagenes):\n",
        "       ruta_imagen = os.path.join(ruta_imagenes, nombre_archivo)\n",
        "       imagen = cv2.imread(ruta_imagen, cv2.IMREAD_GRAYSCALE)  # Carga en escala de grises\n",
        "       imagenes.append(imagen)"
      ],
      "cell_type": "code",
      "metadata": {
        "id": "3t7JzwBY5r4Q",
        "colab": {
          "base_uri": "https://localhost:8080/",
          "height": 211
        },
        "outputId": "86ab0dde-0652-4521-e2fd-cb41fd0400c4"
      },
      "execution_count": null,
      "outputs": [
        {
          "output_type": "error",
          "ename": "OSError",
          "evalue": "[Errno 107] Transport endpoint is not connected: '/content/.drive/'",
          "traceback": [
            "\u001b[0;31m---------------------------------------------------------------------------\u001b[0m",
            "\u001b[0;31mOSError\u001b[0m                                   Traceback (most recent call last)",
            "\u001b[0;32m<ipython-input-9-0e4a737dc939>\u001b[0m in \u001b[0;36m<cell line: 0>\u001b[0;34m()\u001b[0m\n\u001b[1;32m      1\u001b[0m \u001b[0;31m# Carga de imagenes\u001b[0m\u001b[0;34m\u001b[0m\u001b[0;34m\u001b[0m\u001b[0m\n\u001b[1;32m      2\u001b[0m \u001b[0mimagenes\u001b[0m \u001b[0;34m=\u001b[0m \u001b[0;34m[\u001b[0m\u001b[0;34m]\u001b[0m\u001b[0;34m\u001b[0m\u001b[0;34m\u001b[0m\u001b[0m\n\u001b[0;32m----> 3\u001b[0;31m \u001b[0;32mfor\u001b[0m \u001b[0mnombre_archivo\u001b[0m \u001b[0;32min\u001b[0m \u001b[0mos\u001b[0m\u001b[0;34m.\u001b[0m\u001b[0mlistdir\u001b[0m\u001b[0;34m(\u001b[0m\u001b[0mruta_imagenes\u001b[0m\u001b[0;34m)\u001b[0m\u001b[0;34m:\u001b[0m\u001b[0;34m\u001b[0m\u001b[0;34m\u001b[0m\u001b[0m\n\u001b[0m\u001b[1;32m      4\u001b[0m        \u001b[0mruta_imagen\u001b[0m \u001b[0;34m=\u001b[0m \u001b[0mos\u001b[0m\u001b[0;34m.\u001b[0m\u001b[0mpath\u001b[0m\u001b[0;34m.\u001b[0m\u001b[0mjoin\u001b[0m\u001b[0;34m(\u001b[0m\u001b[0mruta_imagenes\u001b[0m\u001b[0;34m,\u001b[0m \u001b[0mnombre_archivo\u001b[0m\u001b[0;34m)\u001b[0m\u001b[0;34m\u001b[0m\u001b[0;34m\u001b[0m\u001b[0m\n\u001b[1;32m      5\u001b[0m        \u001b[0mimagen\u001b[0m \u001b[0;34m=\u001b[0m \u001b[0mcv2\u001b[0m\u001b[0;34m.\u001b[0m\u001b[0mimread\u001b[0m\u001b[0;34m(\u001b[0m\u001b[0mruta_imagen\u001b[0m\u001b[0;34m,\u001b[0m \u001b[0mcv2\u001b[0m\u001b[0;34m.\u001b[0m\u001b[0mIMREAD_GRAYSCALE\u001b[0m\u001b[0;34m)\u001b[0m  \u001b[0;31m# Carga en escala de grises\u001b[0m\u001b[0;34m\u001b[0m\u001b[0;34m\u001b[0m\u001b[0m\n",
            "\u001b[0;31mOSError\u001b[0m: [Errno 107] Transport endpoint is not connected: '/content/.drive/'"
          ]
        }
      ]
    },
    {
      "source": [
        "print(f\"Se cargaron {len(imagenes)} imágenes.\")"
      ],
      "cell_type": "code",
      "metadata": {
        "id": "_yl9J-HV6jv0"
      },
      "execution_count": null,
      "outputs": []
    },
    {
      "source": [
        "# Mostrar imagenes importadas\n",
        "import matplotlib.pyplot as plt\n",
        "\n",
        "# Mostrar las primeras 5 imágenes\n",
        "for i in range(min(5, len(imagenes))):\n",
        "    plt.imshow(imagenes[i], cmap='gray')\n",
        "    plt.title(f\"Imagen {i + 1}\")\n",
        "    plt.show()"
      ],
      "cell_type": "code",
      "metadata": {
        "id": "sezC6asf_yYy",
        "collapsed": true
      },
      "execution_count": null,
      "outputs": []
    },
    {
      "source": [
        "# Deteccion de rostro\n",
        "mp_face_detection = mp.solutions.face_detection\n",
        "face_detection = mp_face_detection.FaceDetection(min_detection_confidence=0.5)"
      ],
      "cell_type": "code",
      "metadata": {
        "id": "2eEvLoB4IxM-"
      },
      "execution_count": null,
      "outputs": []
    },
    {
      "source": [
        "# Recortar imagenes\n",
        "imagenes_recortadas = []\n",
        "for imagen in imagenes:\n",
        "  # Convertir la imagen de escala de grises a RGB\n",
        "  imagen_rgb = cv2.cvtColor(imagen, cv2.COLOR_GRAY2RGB)\n",
        "\n",
        "  # Detectar rostros en la imagen\n",
        "  results = face_detection.process(imagen_rgb)\n",
        "\n",
        "  # Si se encuentra al menos un rostro\n",
        "  if results.detections:\n",
        "    for detection in results.detections:\n",
        "      # Obtener la bounding box del rostro\n",
        "      bbox = detection.location_data.relative_bounding_box\n",
        "\n",
        "      # Calcular las coordenadas de la bounding box en píxeles\n",
        "      h, w = imagen.shape\n",
        "      x = int(bbox.xmin * w)\n",
        "      y = int(bbox.ymin * h)\n",
        "      width = int(bbox.width * w)\n",
        "      height = int(bbox.height * h)\n",
        "\n",
        "      # Recortar la imagen usando la bounding box\n",
        "      rostro_recortado = imagen[y:y+height, x:x+width]\n",
        "\n",
        "      # Añadir la imagen recortada a la lista\n",
        "      imagenes_recortadas.append(rostro_recortado)\n",
        "\n",
        "face_detection.close()"
      ],
      "cell_type": "code",
      "metadata": {
        "id": "JszVubgKIzEo"
      },
      "execution_count": null,
      "outputs": []
    },
    {
      "source": [
        "import matplotlib.pyplot as plt\n",
        "\n",
        "# Mostrar las primeras 5 imágenes recortadas\n",
        "for i in range(min(5, len(imagenes_recortadas))):\n",
        "    plt.imshow(imagenes_recortadas[i], cmap='gray')\n",
        "    plt.title(f\"Imagen recortada {i + 1}\")\n",
        "    plt.show()"
      ],
      "cell_type": "code",
      "metadata": {
        "id": "Q87Mp2TFJO_4"
      },
      "execution_count": null,
      "outputs": []
    },
    {
      "source": [
        "# Escarlar imagenes\n",
        "tamaños_comunes = [(70, 70)]\n",
        "\n",
        "# Escalar las imágenes a cada tamaño común\n",
        "imagenes_escaladas = [cv2.resize(image, tamaños_comunes[0]) for image in imagenes_recortadas]\n"
      ],
      "cell_type": "code",
      "metadata": {
        "id": "3UTzXPE5q8o3"
      },
      "execution_count": null,
      "outputs": []
    },
    {
      "cell_type": "code",
      "source": [
        "# Visualizar las primeras 10 imágenes escaladas\n",
        "fig, axes = plt.subplots(2, 5, figsize=(15, 6))  # 2 filas, 5 columnas\n",
        "fig.suptitle(\"Primeras 10 Imágenes Escaladas\", fontsize=16)\n",
        "\n",
        "for i, imagen in enumerate(imagenes_escaladas[:10]):\n",
        "    ax = axes[i // 5, i % 5]  # Calcula la posición en la cuadrícula\n",
        "    ax.imshow(imagen, cmap='gray')  # Muestra la imagen en escala de grises\n",
        "    ax.set_title(f\"Imagen {i + 1}\")\n",
        "\n",
        "    # Agregar valores en los ejes\n",
        "    ax.set_xticks(np.arange(0, imagen.shape[1], 10))  # Marcas cada 10 píxeles en el eje x\n",
        "    ax.set_yticks(np.arange(0, imagen.shape[0], 10))  # Marcas cada 10 píxeles en el eje y\n",
        "    ax.set_xticklabels(np.arange(0, imagen.shape[1], 10))  # Etiquetas cada 10 píxeles en el eje x\n",
        "    ax.set_yticklabels(np.arange(0, imagen.shape[0], 10))  # Etiquetas cada 10 píxeles en el eje y\n",
        "\n",
        "plt.tight_layout()\n",
        "plt.show()"
      ],
      "metadata": {
        "id": "SOh5X91grQl_"
      },
      "execution_count": null,
      "outputs": []
    },
    {
      "source": [
        "# Crecion de matris 2D\n",
        "\n",
        "\n",
        "# Crear la matriz de datos\n",
        "m = len(imagenes_escaladas)\n",
        "d = tamaños_comunes[0][0] * tamaños_comunes[0][1]\n",
        "X = np.reshape(imagenes_escaladas, (m, d))\n"
      ],
      "cell_type": "code",
      "metadata": {
        "id": "fcb1I9pjs1fQ"
      },
      "execution_count": null,
      "outputs": []
    },
    {
      "source": [
        "# Obtencion de componentes principales\n",
        "\n",
        "from sklearn.decomposition import PCA\n",
        "\n",
        "# Aplicar SVD\n",
        "U, Sigma, VT = np.linalg.svd(X, full_matrices=False)\n",
        "\n",
        "# Aplicar PCA usando SVD\n",
        "pca = PCA(n_components=50)  # Reducir a x componentes principales\n",
        "pca.fit(X)  # Ajustar PCA a la matriz de datos\n",
        "componentes_principales = pca.transform(X) # Transformar los datos\n"
      ],
      "cell_type": "code",
      "metadata": {
        "id": "vMGE-XBBvlBh"
      },
      "execution_count": null,
      "outputs": []
    },
    {
      "cell_type": "code",
      "source": [],
      "metadata": {
        "id": "OF9zCZGoKW4H"
      },
      "execution_count": null,
      "outputs": []
    },
    {
      "cell_type": "code",
      "source": [],
      "metadata": {
        "id": "ReC9jObcKW7J"
      },
      "execution_count": null,
      "outputs": []
    },
    {
      "cell_type": "code",
      "source": [],
      "metadata": {
        "id": "sJ4GpB6dKW-U"
      },
      "execution_count": null,
      "outputs": []
    },
    {
      "cell_type": "markdown",
      "source": [
        "#Preprocesamiento de imagenes\n",
        "\n",
        "##  "
      ],
      "metadata": {
        "id": "lBNvKCYeKac9"
      }
    },
    {
      "cell_type": "code",
      "source": [],
      "metadata": {
        "id": "254R6KynKXBY"
      },
      "execution_count": null,
      "outputs": []
    },
    {
      "cell_type": "code",
      "source": [],
      "metadata": {
        "id": "2pKOmsfSKXEo"
      },
      "execution_count": null,
      "outputs": []
    },
    {
      "cell_type": "code",
      "source": [],
      "metadata": {
        "id": "DHM-r5ruKXHY"
      },
      "execution_count": null,
      "outputs": []
    },
    {
      "cell_type": "code",
      "source": [],
      "metadata": {
        "id": "YgieoLIbKXKe"
      },
      "execution_count": null,
      "outputs": []
    },
    {
      "cell_type": "code",
      "source": [],
      "metadata": {
        "id": "9P1vAjTiKXNY"
      },
      "execution_count": null,
      "outputs": []
    },
    {
      "cell_type": "code",
      "source": [],
      "metadata": {
        "id": "is6fxzGaKXQn"
      },
      "execution_count": null,
      "outputs": []
    },
    {
      "cell_type": "code",
      "source": [],
      "metadata": {
        "id": "ewAq73H4KXTQ"
      },
      "execution_count": null,
      "outputs": []
    },
    {
      "cell_type": "code",
      "source": [],
      "metadata": {
        "id": "v21S8MSWKXWF"
      },
      "execution_count": null,
      "outputs": []
    },
    {
      "cell_type": "markdown",
      "source": [],
      "metadata": {
        "id": "iRVnN4HErQUi"
      }
    }
  ]
}