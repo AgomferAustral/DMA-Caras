{
  "nbformat": 4,
  "nbformat_minor": 0,
  "metadata": {
    "colab": {
      "provenance": [],
      "include_colab_link": true
    },
    "kernelspec": {
      "name": "python3",
      "display_name": "Python 3"
    },
    "language_info": {
      "name": "python"
    }
  },
  "cells": [
    {
      "cell_type": "markdown",
      "metadata": {
        "id": "view-in-github",
        "colab_type": "text"
      },
      "source": [
        "<a href=\"https://colab.research.google.com/github/AgomferAustral/DMA-Caras/blob/main/Eigenfaces.ipynb\" target=\"_parent\"><img src=\"https://colab.research.google.com/assets/colab-badge.svg\" alt=\"Open In Colab\"/></a>"
      ]
    },
    {
      "source": [
        "# conexion al Google Drive\n",
        "from google.colab import drive\n",
        "drive.mount('/content/drive')"
      ],
      "cell_type": "code",
      "metadata": {
        "colab": {
          "base_uri": "https://localhost:8080/"
        },
        "id": "WYbCH9LO3Acj",
        "outputId": "e715b675-3c04-4770-ab9b-b0664b552506"
      },
      "execution_count": null,
      "outputs": [
        {
          "output_type": "stream",
          "name": "stdout",
          "text": [
            "Drive already mounted at /content/drive; to attempt to forcibly remount, call drive.mount(\"/content/drive\", force_remount=True).\n"
          ]
        }
      ]
    },
    {
      "source": [
        "# Importacion de librerias\n",
        "#!pip install --upgrade mediapipe\n"
      ],
      "cell_type": "code",
      "metadata": {
        "id": "0ssP3bZH3dZR",
        "collapsed": true
      },
      "execution_count": null,
      "outputs": []
    },
    {
      "cell_type": "code",
      "source": [
        "import os\n",
        "import math\n",
        "import cv2\n",
        "import sys\n",
        "import numpy as np"
      ],
      "metadata": {
        "id": "SEqwIhmUhJU9"
      },
      "execution_count": 17,
      "outputs": []
    },
    {
      "cell_type": "code",
      "source": [
        "face_cascade = cv2.CascadeClassifier(cv2.data.haarcascades + \"haarcascade_frontalface_default.xml\")"
      ],
      "metadata": {
        "id": "Nn3U-XUxb8uZ"
      },
      "execution_count": 3,
      "outputs": []
    },
    {
      "source": [
        "#!pip install --upgrade numpy\n",
        "#!pip install --upgrade scipy"
      ],
      "cell_type": "code",
      "metadata": {
        "collapsed": true,
        "id": "TyyBLLrOCOwP"
      },
      "execution_count": 9,
      "outputs": []
    },
    {
      "cell_type": "code",
      "source": [],
      "metadata": {
        "collapsed": true,
        "id": "V3pZH_qBIKzB"
      },
      "execution_count": 9,
      "outputs": []
    },
    {
      "source": [
        "# Definicion de ruta de conexion\n",
        "\n",
        "img_size=(60,60)\n",
        "\n",
        "ruta_entrada = '/content/drive/MyDrive/Eigenfaces'\n",
        "ruta_salida = f'/content/drive/MyDrive/Eigenfaces2-{img_size[0]}x{img_size[1]}'\n",
        "\n"
      ],
      "cell_type": "code",
      "metadata": {
        "id": "_pFRsi5H3x0-"
      },
      "execution_count": 14,
      "outputs": []
    },
    {
      "cell_type": "code",
      "source": [
        "# prompt: verificar si la carpeta en \"ruta_salida\" existe. Si no existe, crearla\n",
        "\n",
        "if not os.path.exists(ruta_salida):\n",
        "  os.makedirs(ruta_salida)\n"
      ],
      "metadata": {
        "id": "R9Pq2yVfWQAE"
      },
      "execution_count": 15,
      "outputs": []
    },
    {
      "cell_type": "code",
      "source": [
        "def procesar_archivos_en_carpetas(ruta_principal,ruta_final, imgsize):\n",
        "  \"\"\"Recorre las carpetas dentro de la ruta principal y procesa los archivos.\n",
        "\n",
        "  Args:\n",
        "    ruta_principal: La ruta de la carpeta principal.\n",
        "  \"\"\"\n",
        "\n",
        "  fraccion = 8\n",
        "\n",
        "\n",
        "  x_inicial = imgsize[0] // (fraccion - 2)\n",
        "  y_inicial = imgsize[1] // (fraccion - 2)\n",
        "  alto = imgsize[1]\n",
        "  ancho = imgsize[0]\n",
        "  multip = fraccion / (fraccion - 2)\n",
        "  img_size = (math.floor(ancho * multip) , math.floor(alto * multip))\n",
        "\n",
        "\n",
        "  print(f\"Ruta principal: {ruta_principal}\")\n",
        "  for carpeta_actual, _, archivos in os.walk(ruta_principal):\n",
        "    print(f\"Carpeta actual: {carpeta_actual}\")\n",
        "    for archivo in archivos:\n",
        "      print(f\"Archivo: {archivo}\")\n",
        "      ruta_completa = os.path.join(carpeta_actual, archivo)\n",
        "      try:\n",
        "\n",
        "            img = cv2.imread(ruta_completa, cv2.IMREAD_GRAYSCALE)\n",
        "\n",
        "            img = cv2.normalize(img, None, 0, 255, cv2.NORM_MINMAX)\n",
        "\n",
        "            if img is None:\n",
        "                print(f\"⚠️ No se pudo leer: {ruta_completa}\")\n",
        "                continue\n",
        "\n",
        "            # Detectar rostros\n",
        "            faces = face_cascade.detectMultiScale(img, scaleFactor=1.1, minNeighbors=10, minSize=(110, 110))\n",
        "\n",
        "            for i, (x, y, w, h) in enumerate(faces):\n",
        "                face = img[y:y+h, x:x+w]  # Recortar rostro\n",
        "                face_resized = cv2.resize(face, img_size)  # Redimensionar\n",
        "\n",
        "                face_cutted = face_resized[y_inicial:y_inicial+alto, x_inicial:x_inicial+ancho]\n",
        "\n",
        "                # Crear carpeta de salida manteniendo la estructura original\n",
        "                relative_path = os.path.relpath(carpeta_actual, ruta_entrada)\n",
        "                output_folder = os.path.join(ruta_salida, relative_path)\n",
        "                os.makedirs(output_folder, exist_ok=True)\n",
        "\n",
        "                # Guardar rostro procesado\n",
        "                output_path = os.path.join(output_folder, f\"{os.path.splitext(archivo)[0]}_face{i}.jpg\")\n",
        "                cv2.imwrite(output_path, face_cutted)\n",
        "                print(f\"✅ Guardado: {output_path}\")\n",
        "\n",
        "\n",
        "      except Exception as e:\n",
        "          print(f\"❌ Error procesando {ruta_completa}: {e}\")\n",
        "\n",
        "\n",
        "\n",
        "\n",
        "\n",
        "\n",
        "\n",
        "      except Exception as e:\n",
        "        print(f\"Error al procesar el archivo {ruta_completa}: {e}\")\n",
        "\n",
        "# Ejemplo de uso:\n",
        "print(\"Procesando archivos\")\n",
        "procesar_archivos_en_carpetas(ruta_entrada, ruta_salida, img_size)\n",
        "print(\"Proceso inicial terminado ...\")"
      ],
      "metadata": {
        "id": "-9otdo5QIG_W",
        "outputId": "fc4a48fb-3881-43ca-d7be-9bad4ec86a5c",
        "colab": {
          "base_uri": "https://localhost:8080/",
          "height": 1000
        }
      },
      "execution_count": 16,
      "outputs": [
        {
          "output_type": "stream",
          "name": "stdout",
          "text": [
            "Procesando archivos\n",
            "Ruta principal: /content/drive/MyDrive/Eigenfaces\n",
            "Carpeta actual: /content/drive/MyDrive/Eigenfaces\n",
            "Carpeta actual: /content/drive/MyDrive/Eigenfaces/Noelia R\n",
            "Archivo: 1742907849929.jpg\n",
            "❌ Error procesando /content/drive/MyDrive/Eigenfaces/Noelia R/1742907849929.jpg: OpenCV(4.11.0) :-1: error: (-5:Bad argument) in function 'resize'\n",
            "> Overload resolution failed:\n",
            ">  - Can't parse 'dsize'. Sequence item with index 0 has a wrong type\n",
            ">  - Can't parse 'dsize'. Sequence item with index 0 has a wrong type\n",
            "\n",
            "Archivo: 20250321_170637.jpg\n",
            "❌ Error procesando /content/drive/MyDrive/Eigenfaces/Noelia R/20250321_170637.jpg: OpenCV(4.11.0) :-1: error: (-5:Bad argument) in function 'resize'\n",
            "> Overload resolution failed:\n",
            ">  - Can't parse 'dsize'. Sequence item with index 0 has a wrong type\n",
            ">  - Can't parse 'dsize'. Sequence item with index 0 has a wrong type\n",
            "\n",
            "Archivo: IMG_4185.JPG\n",
            "❌ Error procesando /content/drive/MyDrive/Eigenfaces/Noelia R/IMG_4185.JPG: OpenCV(4.11.0) :-1: error: (-5:Bad argument) in function 'resize'\n",
            "> Overload resolution failed:\n",
            ">  - Can't parse 'dsize'. Sequence item with index 0 has a wrong type\n",
            ">  - Can't parse 'dsize'. Sequence item with index 0 has a wrong type\n",
            "\n",
            "Archivo: IMG_20250321_170629085.jpg\n",
            "❌ Error procesando /content/drive/MyDrive/Eigenfaces/Noelia R/IMG_20250321_170629085.jpg: OpenCV(4.11.0) :-1: error: (-5:Bad argument) in function 'resize'\n",
            "> Overload resolution failed:\n",
            ">  - Can't parse 'dsize'. Sequence item with index 0 has a wrong type\n",
            ">  - Can't parse 'dsize'. Sequence item with index 0 has a wrong type\n",
            "\n",
            "Archivo: IMG_6804.jpeg\n",
            "❌ Error procesando /content/drive/MyDrive/Eigenfaces/Noelia R/IMG_6804.jpeg: OpenCV(4.11.0) :-1: error: (-5:Bad argument) in function 'resize'\n",
            "> Overload resolution failed:\n",
            ">  - Can't parse 'dsize'. Sequence item with index 0 has a wrong type\n",
            ">  - Can't parse 'dsize'. Sequence item with index 0 has a wrong type\n",
            "\n",
            "Archivo: 1742907849918.jpg\n",
            "❌ Error procesando /content/drive/MyDrive/Eigenfaces/Noelia R/1742907849918.jpg: OpenCV(4.11.0) :-1: error: (-5:Bad argument) in function 'resize'\n",
            "> Overload resolution failed:\n",
            ">  - Can't parse 'dsize'. Sequence item with index 0 has a wrong type\n",
            ">  - Can't parse 'dsize'. Sequence item with index 0 has a wrong type\n",
            "\n",
            "Archivo: IMG_4184.JPG\n",
            "❌ Error procesando /content/drive/MyDrive/Eigenfaces/Noelia R/IMG_4184.JPG: OpenCV(4.11.0) :-1: error: (-5:Bad argument) in function 'resize'\n",
            "> Overload resolution failed:\n",
            ">  - Can't parse 'dsize'. Sequence item with index 0 has a wrong type\n",
            ">  - Can't parse 'dsize'. Sequence item with index 0 has a wrong type\n",
            "\n",
            "Archivo: IMG_20250321_140824265.jpg\n",
            "❌ Error procesando /content/drive/MyDrive/Eigenfaces/Noelia R/IMG_20250321_140824265.jpg: OpenCV(4.11.0) :-1: error: (-5:Bad argument) in function 'resize'\n",
            "> Overload resolution failed:\n",
            ">  - Can't parse 'dsize'. Sequence item with index 0 has a wrong type\n",
            ">  - Can't parse 'dsize'. Sequence item with index 0 has a wrong type\n",
            "\n",
            "Archivo: 20250321_170639.jpg\n",
            "❌ Error procesando /content/drive/MyDrive/Eigenfaces/Noelia R/20250321_170639.jpg: OpenCV(4.11.0) :-1: error: (-5:Bad argument) in function 'resize'\n",
            "> Overload resolution failed:\n",
            ">  - Can't parse 'dsize'. Sequence item with index 0 has a wrong type\n",
            ">  - Can't parse 'dsize'. Sequence item with index 0 has a wrong type\n",
            "\n",
            "Archivo: 1742907849908.jpg\n",
            "❌ Error procesando /content/drive/MyDrive/Eigenfaces/Noelia R/1742907849908.jpg: OpenCV(4.11.0) :-1: error: (-5:Bad argument) in function 'resize'\n",
            "> Overload resolution failed:\n",
            ">  - Can't parse 'dsize'. Sequence item with index 0 has a wrong type\n",
            ">  - Can't parse 'dsize'. Sequence item with index 0 has a wrong type\n",
            "\n",
            "Archivo: IMG_20250321_170631563.jpg\n",
            "❌ Error procesando /content/drive/MyDrive/Eigenfaces/Noelia R/IMG_20250321_170631563.jpg: OpenCV(4.11.0) :-1: error: (-5:Bad argument) in function 'resize'\n",
            "> Overload resolution failed:\n",
            ">  - Can't parse 'dsize'. Sequence item with index 0 has a wrong type\n",
            ">  - Can't parse 'dsize'. Sequence item with index 0 has a wrong type\n",
            "\n",
            "Archivo: IMG_7655.JPG\n",
            "❌ Error procesando /content/drive/MyDrive/Eigenfaces/Noelia R/IMG_7655.JPG: OpenCV(4.11.0) :-1: error: (-5:Bad argument) in function 'resize'\n",
            "> Overload resolution failed:\n",
            ">  - Can't parse 'dsize'. Sequence item with index 0 has a wrong type\n",
            ">  - Can't parse 'dsize'. Sequence item with index 0 has a wrong type\n",
            "\n",
            "Archivo: IMG_6802.jpeg\n",
            "❌ Error procesando /content/drive/MyDrive/Eigenfaces/Noelia R/IMG_6802.jpeg: OpenCV(4.11.0) :-1: error: (-5:Bad argument) in function 'resize'\n",
            "> Overload resolution failed:\n",
            ">  - Can't parse 'dsize'. Sequence item with index 0 has a wrong type\n",
            ">  - Can't parse 'dsize'. Sequence item with index 0 has a wrong type\n",
            "\n",
            "Archivo: IMG_1106.JPG\n",
            "❌ Error procesando /content/drive/MyDrive/Eigenfaces/Noelia R/IMG_1106.JPG: OpenCV(4.11.0) :-1: error: (-5:Bad argument) in function 'resize'\n",
            "> Overload resolution failed:\n",
            ">  - Can't parse 'dsize'. Sequence item with index 0 has a wrong type\n",
            ">  - Can't parse 'dsize'. Sequence item with index 0 has a wrong type\n",
            "\n",
            "Archivo: 20250321_170641.jpg\n",
            "❌ Error procesando /content/drive/MyDrive/Eigenfaces/Noelia R/20250321_170641.jpg: OpenCV(4.11.0) :-1: error: (-5:Bad argument) in function 'resize'\n",
            "> Overload resolution failed:\n",
            ">  - Can't parse 'dsize'. Sequence item with index 0 has a wrong type\n",
            ">  - Can't parse 'dsize'. Sequence item with index 0 has a wrong type\n",
            "\n",
            "Archivo: IMG_4186.JPG\n",
            "❌ Error procesando /content/drive/MyDrive/Eigenfaces/Noelia R/IMG_4186.JPG: OpenCV(4.11.0) :-1: error: (-5:Bad argument) in function 'resize'\n",
            "> Overload resolution failed:\n",
            ">  - Can't parse 'dsize'. Sequence item with index 0 has a wrong type\n",
            ">  - Can't parse 'dsize'. Sequence item with index 0 has a wrong type\n",
            "\n",
            "Archivo: IMG_20250321_170634292.jpg\n",
            "❌ Error procesando /content/drive/MyDrive/Eigenfaces/Noelia R/IMG_20250321_170634292.jpg: OpenCV(4.11.0) :-1: error: (-5:Bad argument) in function 'resize'\n",
            "> Overload resolution failed:\n",
            ">  - Can't parse 'dsize'. Sequence item with index 0 has a wrong type\n",
            ">  - Can't parse 'dsize'. Sequence item with index 0 has a wrong type\n",
            "\n",
            "Archivo: IMG_1105.JPG\n",
            "❌ Error procesando /content/drive/MyDrive/Eigenfaces/Noelia R/IMG_1105.JPG: OpenCV(4.11.0) :-1: error: (-5:Bad argument) in function 'resize'\n",
            "> Overload resolution failed:\n",
            ">  - Can't parse 'dsize'. Sequence item with index 0 has a wrong type\n",
            ">  - Can't parse 'dsize'. Sequence item with index 0 has a wrong type\n",
            "\n",
            "Archivo: IMG_7657.JPG\n",
            "❌ Error procesando /content/drive/MyDrive/Eigenfaces/Noelia R/IMG_7657.JPG: OpenCV(4.11.0) :-1: error: (-5:Bad argument) in function 'resize'\n",
            "> Overload resolution failed:\n",
            ">  - Can't parse 'dsize'. Sequence item with index 0 has a wrong type\n",
            ">  - Can't parse 'dsize'. Sequence item with index 0 has a wrong type\n",
            "\n",
            "Archivo: IMG_6803.jpeg\n",
            "❌ Error procesando /content/drive/MyDrive/Eigenfaces/Noelia R/IMG_6803.jpeg: OpenCV(4.11.0) :-1: error: (-5:Bad argument) in function 'resize'\n",
            "> Overload resolution failed:\n",
            ">  - Can't parse 'dsize'. Sequence item with index 0 has a wrong type\n",
            ">  - Can't parse 'dsize'. Sequence item with index 0 has a wrong type\n",
            "\n",
            "Archivo: IMG_7655 2.JPG\n",
            "❌ Error procesando /content/drive/MyDrive/Eigenfaces/Noelia R/IMG_7655 2.JPG: OpenCV(4.11.0) :-1: error: (-5:Bad argument) in function 'resize'\n",
            "> Overload resolution failed:\n",
            ">  - Can't parse 'dsize'. Sequence item with index 0 has a wrong type\n",
            ">  - Can't parse 'dsize'. Sequence item with index 0 has a wrong type\n",
            "\n",
            "Archivo: IMG_1104.JPG\n",
            "❌ Error procesando /content/drive/MyDrive/Eigenfaces/Noelia R/IMG_1104.JPG: OpenCV(4.11.0) :-1: error: (-5:Bad argument) in function 'resize'\n",
            "> Overload resolution failed:\n",
            ">  - Can't parse 'dsize'. Sequence item with index 0 has a wrong type\n",
            ">  - Can't parse 'dsize'. Sequence item with index 0 has a wrong type\n",
            "\n",
            "Carpeta actual: /content/drive/MyDrive/Eigenfaces/Natalia\n",
            "Archivo: IMG_4164.JPG\n",
            "❌ Error procesando /content/drive/MyDrive/Eigenfaces/Natalia/IMG_4164.JPG: OpenCV(4.11.0) :-1: error: (-5:Bad argument) in function 'resize'\n",
            "> Overload resolution failed:\n",
            ">  - Can't parse 'dsize'. Sequence item with index 0 has a wrong type\n",
            ">  - Can't parse 'dsize'. Sequence item with index 0 has a wrong type\n",
            "\n",
            "Archivo: 20250321_140636.jpg\n",
            "❌ Error procesando /content/drive/MyDrive/Eigenfaces/Natalia/20250321_140636.jpg: OpenCV(4.11.0) :-1: error: (-5:Bad argument) in function 'resize'\n",
            "> Overload resolution failed:\n",
            ">  - Can't parse 'dsize'. Sequence item with index 0 has a wrong type\n",
            ">  - Can't parse 'dsize'. Sequence item with index 0 has a wrong type\n",
            "\n",
            "Archivo: 1742907849896.jpg\n",
            "❌ Error procesando /content/drive/MyDrive/Eigenfaces/Natalia/1742907849896.jpg: OpenCV(4.11.0) :-1: error: (-5:Bad argument) in function 'resize'\n",
            "> Overload resolution failed:\n",
            ">  - Can't parse 'dsize'. Sequence item with index 0 has a wrong type\n",
            ">  - Can't parse 'dsize'. Sequence item with index 0 has a wrong type\n",
            "\n",
            "Archivo: IMG_1068.JPG\n",
            "❌ Error procesando /content/drive/MyDrive/Eigenfaces/Natalia/IMG_1068.JPG: OpenCV(4.11.0) :-1: error: (-5:Bad argument) in function 'resize'\n",
            "> Overload resolution failed:\n",
            ">  - Can't parse 'dsize'. Sequence item with index 0 has a wrong type\n",
            ">  - Can't parse 'dsize'. Sequence item with index 0 has a wrong type\n",
            "\n",
            "Archivo: IMG_7639 2.JPG\n",
            "❌ Error procesando /content/drive/MyDrive/Eigenfaces/Natalia/IMG_7639 2.JPG: OpenCV(4.11.0) :-1: error: (-5:Bad argument) in function 'resize'\n",
            "> Overload resolution failed:\n",
            ">  - Can't parse 'dsize'. Sequence item with index 0 has a wrong type\n",
            ">  - Can't parse 'dsize'. Sequence item with index 0 has a wrong type\n",
            "\n",
            "Archivo: IMG_4165.JPG\n"
          ]
        },
        {
          "output_type": "error",
          "ename": "KeyboardInterrupt",
          "evalue": "",
          "traceback": [
            "\u001b[0;31m---------------------------------------------------------------------------\u001b[0m",
            "\u001b[0;31mKeyboardInterrupt\u001b[0m                         Traceback (most recent call last)",
            "\u001b[0;32m<ipython-input-16-9005a458121c>\u001b[0m in \u001b[0;36m<cell line: 0>\u001b[0;34m()\u001b[0m\n\u001b[1;32m     67\u001b[0m \u001b[0;31m# Ejemplo de uso:\u001b[0m\u001b[0;34m\u001b[0m\u001b[0;34m\u001b[0m\u001b[0m\n\u001b[1;32m     68\u001b[0m \u001b[0mprint\u001b[0m\u001b[0;34m(\u001b[0m\u001b[0;34m\"Procesando archivos\"\u001b[0m\u001b[0;34m)\u001b[0m\u001b[0;34m\u001b[0m\u001b[0;34m\u001b[0m\u001b[0m\n\u001b[0;32m---> 69\u001b[0;31m \u001b[0mprocesar_archivos_en_carpetas\u001b[0m\u001b[0;34m(\u001b[0m\u001b[0mruta_entrada\u001b[0m\u001b[0;34m,\u001b[0m \u001b[0mruta_salida\u001b[0m\u001b[0;34m,\u001b[0m \u001b[0mimg_size\u001b[0m\u001b[0;34m)\u001b[0m\u001b[0;34m\u001b[0m\u001b[0;34m\u001b[0m\u001b[0m\n\u001b[0m\u001b[1;32m     70\u001b[0m \u001b[0mprint\u001b[0m\u001b[0;34m(\u001b[0m\u001b[0;34m\"Proceso inicial terminado ...\"\u001b[0m\u001b[0;34m)\u001b[0m\u001b[0;34m\u001b[0m\u001b[0;34m\u001b[0m\u001b[0m\n",
            "\u001b[0;32m<ipython-input-16-9005a458121c>\u001b[0m in \u001b[0;36mprocesar_archivos_en_carpetas\u001b[0;34m(ruta_principal, ruta_final, imgsize)\u001b[0m\n\u001b[1;32m     34\u001b[0m \u001b[0;34m\u001b[0m\u001b[0m\n\u001b[1;32m     35\u001b[0m             \u001b[0;31m# Detectar rostros\u001b[0m\u001b[0;34m\u001b[0m\u001b[0;34m\u001b[0m\u001b[0m\n\u001b[0;32m---> 36\u001b[0;31m             \u001b[0mfaces\u001b[0m \u001b[0;34m=\u001b[0m \u001b[0mface_cascade\u001b[0m\u001b[0;34m.\u001b[0m\u001b[0mdetectMultiScale\u001b[0m\u001b[0;34m(\u001b[0m\u001b[0mimg\u001b[0m\u001b[0;34m,\u001b[0m \u001b[0mscaleFactor\u001b[0m\u001b[0;34m=\u001b[0m\u001b[0;36m1.1\u001b[0m\u001b[0;34m,\u001b[0m \u001b[0mminNeighbors\u001b[0m\u001b[0;34m=\u001b[0m\u001b[0;36m10\u001b[0m\u001b[0;34m,\u001b[0m \u001b[0mminSize\u001b[0m\u001b[0;34m=\u001b[0m\u001b[0;34m(\u001b[0m\u001b[0;36m110\u001b[0m\u001b[0;34m,\u001b[0m \u001b[0;36m110\u001b[0m\u001b[0;34m)\u001b[0m\u001b[0;34m)\u001b[0m\u001b[0;34m\u001b[0m\u001b[0;34m\u001b[0m\u001b[0m\n\u001b[0m\u001b[1;32m     37\u001b[0m \u001b[0;34m\u001b[0m\u001b[0m\n\u001b[1;32m     38\u001b[0m             \u001b[0;32mfor\u001b[0m \u001b[0mi\u001b[0m\u001b[0;34m,\u001b[0m \u001b[0;34m(\u001b[0m\u001b[0mx\u001b[0m\u001b[0;34m,\u001b[0m \u001b[0my\u001b[0m\u001b[0;34m,\u001b[0m \u001b[0mw\u001b[0m\u001b[0;34m,\u001b[0m \u001b[0mh\u001b[0m\u001b[0;34m)\u001b[0m \u001b[0;32min\u001b[0m \u001b[0menumerate\u001b[0m\u001b[0;34m(\u001b[0m\u001b[0mfaces\u001b[0m\u001b[0;34m)\u001b[0m\u001b[0;34m:\u001b[0m\u001b[0;34m\u001b[0m\u001b[0;34m\u001b[0m\u001b[0m\n",
            "\u001b[0;31mKeyboardInterrupt\u001b[0m: "
          ]
        }
      ]
    },
    {
      "cell_type": "code",
      "source": [],
      "metadata": {
        "id": "YgieoLIbKXKe"
      },
      "execution_count": 12,
      "outputs": []
    },
    {
      "cell_type": "code",
      "source": [],
      "metadata": {
        "id": "9P1vAjTiKXNY"
      },
      "execution_count": 12,
      "outputs": []
    },
    {
      "cell_type": "code",
      "source": [],
      "metadata": {
        "id": "is6fxzGaKXQn"
      },
      "execution_count": 12,
      "outputs": []
    },
    {
      "cell_type": "code",
      "source": [],
      "metadata": {
        "id": "ewAq73H4KXTQ"
      },
      "execution_count": 12,
      "outputs": []
    },
    {
      "cell_type": "code",
      "source": [],
      "metadata": {
        "id": "v21S8MSWKXWF"
      },
      "execution_count": 12,
      "outputs": []
    },
    {
      "cell_type": "markdown",
      "source": [],
      "metadata": {
        "id": "iRVnN4HErQUi"
      }
    }
  ]
}