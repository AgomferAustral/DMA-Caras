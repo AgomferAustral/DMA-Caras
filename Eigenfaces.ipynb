{
  "nbformat": 4,
  "nbformat_minor": 0,
  "metadata": {
    "colab": {
      "provenance": [],
      "include_colab_link": true
    },
    "kernelspec": {
      "name": "python3",
      "display_name": "Python 3"
    },
    "language_info": {
      "name": "python"
    }
  },
  "cells": [
    {
      "cell_type": "markdown",
      "metadata": {
        "id": "view-in-github",
        "colab_type": "text"
      },
      "source": [
        "<a href=\"https://colab.research.google.com/github/AgomferAustral/DMA-Caras/blob/main/Eigenfaces.ipynb\" target=\"_parent\"><img src=\"https://colab.research.google.com/assets/colab-badge.svg\" alt=\"Open In Colab\"/></a>"
      ]
    },
    {
      "source": [
        "# conexion al Google Drive\n",
        "from google.colab import drive\n",
        "drive.mount('/content/drive')"
      ],
      "cell_type": "code",
      "metadata": {
        "colab": {
          "base_uri": "https://localhost:8080/"
        },
        "id": "WYbCH9LO3Acj",
        "outputId": "e715b675-3c04-4770-ab9b-b0664b552506"
      },
      "execution_count": null,
      "outputs": [
        {
          "output_type": "stream",
          "name": "stdout",
          "text": [
            "Drive already mounted at /content/drive; to attempt to forcibly remount, call drive.mount(\"/content/drive\", force_remount=True).\n"
          ]
        }
      ]
    },
    {
      "cell_type": "code",
      "source": [
        "\n",
        "\n",
        "import cv2\n",
        "import math\n",
        "import numpy as np\n",
        "import os\n",
        "import random\n",
        "import sys\n",
        "\n",
        "from sklearn.model_selection import train_test_split\n",
        "from sklearn.decomposition import PCA\n",
        "from sklearn.manifold import Isomap\n",
        "\n",
        "\n",
        "\n",
        "#!pip install --upgrade numpy\n",
        "#!pip install --upgrade scipy\n",
        "\n",
        "\n"
      ],
      "metadata": {
        "id": "SEqwIhmUhJU9"
      },
      "execution_count": null,
      "outputs": []
    },
    {
      "cell_type": "code",
      "source": [],
      "metadata": {
        "collapsed": true,
        "id": "V3pZH_qBIKzB"
      },
      "execution_count": null,
      "outputs": []
    },
    {
      "cell_type": "markdown",
      "source": [
        "# Preprocesamos imagenes\n",
        "## La carpeta de origen se llama Eigenfaces\n"
      ],
      "metadata": {
        "id": "2gdS9KPNUk5u"
      }
    },
    {
      "cell_type": "code",
      "source": [],
      "metadata": {
        "id": "PpEJ6W0xUuvR"
      },
      "execution_count": null,
      "outputs": []
    },
    {
      "cell_type": "code",
      "source": [
        "\n",
        "face_cascade = cv2.CascadeClassifier(cv2.data.haarcascades + \"haarcascade_frontalface_default.xml\")\n",
        "\n",
        "\n",
        "\n",
        "\n",
        "# Definicion de ruta de conexion - Origen - Destino imagenes\n",
        "\n",
        "img_size=(60,60)\n",
        "\n",
        "ruta_entrada = '/content/drive/MyDrive/Eigenfaces'\n",
        "ruta_salida = f'/content/drive/MyDrive/Eigenfaces2-{img_size[0]}x{img_size[1]}'\n",
        "\n",
        "\n",
        "\n",
        "\n",
        "# prompt: verificar si la carpeta en \"ruta_salida\" existe. Si no existe, crearla\n",
        "\n",
        "if not os.path.exists(ruta_salida):\n",
        "  os.makedirs(ruta_salida)\n",
        "\n",
        "\n",
        "\n",
        "def procesar_archivos_en_carpetas(ruta_principal,ruta_final, imgsize):\n",
        "  \"\"\"Recorre las carpetas dentro de la ruta principal y procesa los archivos.\n",
        "\n",
        "  Args:\n",
        "    ruta_principal: La ruta de la carpeta principal.\n",
        "  \"\"\"\n",
        "\n",
        "  fraccion = 8\n",
        "\n",
        "\n",
        "  x_inicial = imgsize[0] // (fraccion - 2)\n",
        "  y_inicial = imgsize[1] // (fraccion - 2)\n",
        "  alto = imgsize[1]\n",
        "  ancho = imgsize[0]\n",
        "  multip = fraccion / (fraccion - 2)\n",
        "  img_size = (math.floor(ancho * multip) , math.floor(alto * multip))\n",
        "\n",
        "\n",
        "  print(f\"Ruta principal: {ruta_principal}\")\n",
        "  for carpeta_actual, _, archivos in os.walk(ruta_principal):\n",
        "    print(f\"Carpeta actual: {carpeta_actual}\")\n",
        "    for archivo in archivos:\n",
        "      print(f\"Archivo: {archivo}\")\n",
        "      ruta_completa = os.path.join(carpeta_actual, archivo)\n",
        "      try:\n",
        "\n",
        "            img = cv2.imread(ruta_completa, cv2.IMREAD_GRAYSCALE)\n",
        "\n",
        "            img = cv2.normalize(img, None, 0, 255, cv2.NORM_MINMAX)\n",
        "\n",
        "            if img is None:\n",
        "                print(f\"⚠️ No se pudo leer: {ruta_completa}\")\n",
        "                continue\n",
        "\n",
        "            # Detectar rostros\n",
        "            faces = face_cascade.detectMultiScale(img, scaleFactor=1.1, minNeighbors=10, minSize=(110, 110))\n",
        "\n",
        "            for i, (x, y, w, h) in enumerate(faces):\n",
        "                face = img[y:y+h, x:x+w]  # Recortar rostro\n",
        "                face_resized = cv2.resize(face, img_size)  # Redimensionar\n",
        "\n",
        "                face_cutted = face_resized[y_inicial:y_inicial+alto, x_inicial:x_inicial+ancho]\n",
        "\n",
        "                # Crear carpeta de salida manteniendo la estructura original\n",
        "                relative_path = os.path.relpath(carpeta_actual, ruta_entrada)\n",
        "                output_folder = os.path.join(ruta_salida, relative_path)\n",
        "                os.makedirs(output_folder, exist_ok=True)\n",
        "\n",
        "                # Guardar rostro procesado\n",
        "                output_path = os.path.join(output_folder, f\"{os.path.splitext(archivo)[0]}_face{i}.jpg\")\n",
        "                cv2.imwrite(output_path, face_cutted)\n",
        "                print(f\"✅ Guardado: {output_path}\")\n",
        "\n",
        "\n",
        "      except Exception as e:\n",
        "          print(f\"❌ Error procesando {ruta_completa}: {e}\")\n",
        "\n",
        "\n",
        "      except Exception as e:\n",
        "        print(f\"Error al procesar el archivo {ruta_completa}: {e}\")\n",
        "\n"
      ],
      "metadata": {
        "id": "kiu0dy57FGft"
      },
      "execution_count": null,
      "outputs": []
    },
    {
      "cell_type": "code",
      "source": [],
      "metadata": {
        "id": "ExWLIfqKU30c"
      },
      "execution_count": null,
      "outputs": []
    },
    {
      "cell_type": "code",
      "source": [
        "# Ejemplo de uso:\n",
        "print(\"Procesando archivos\")\n",
        "procesar_archivos_en_carpetas(ruta_entrada, ruta_salida, img_size)\n",
        "print(\"Proceso inicial terminado ...\")\n"
      ],
      "metadata": {
        "id": "XVN3lWaYGdlr"
      },
      "execution_count": null,
      "outputs": []
    },
    {
      "cell_type": "code",
      "source": [],
      "metadata": {
        "id": "hwRbyn4GU4Ti"
      },
      "execution_count": null,
      "outputs": []
    },
    {
      "cell_type": "markdown",
      "source": [
        "## el preprocesado queda en la carpeta Eigenfaces2-60x60\n",
        "\n",
        "### copie una version de esa carpeta a \"origen\" para usar a continuacion"
      ],
      "metadata": {
        "id": "EZEv4e6PVNUs"
      }
    },
    {
      "cell_type": "code",
      "source": [],
      "metadata": {
        "id": "XeRqyqOlU4PC"
      },
      "execution_count": null,
      "outputs": []
    },
    {
      "cell_type": "code",
      "source": [
        "# origen de datos preprocesados\n",
        "ruta_origen = \"/content/drive/MyDrive/origen\""
      ],
      "metadata": {
        "id": "JX1faTG4GdZJ"
      },
      "execution_count": null,
      "outputs": []
    },
    {
      "cell_type": "code",
      "source": [],
      "metadata": {
        "id": "zRZ1KpaIU3q1"
      },
      "execution_count": null,
      "outputs": []
    },
    {
      "cell_type": "code",
      "source": [
        "# Division de conjunto de datos\n",
        "\n",
        "def dividir_datos(ruta_origen, proporcion_entrenamiento=0.75):\n",
        "    \"\"\"\n",
        "    Divide las imágenes en conjuntos de entrenamiento y prueba,\n",
        "    y guarda las etiquetas usando un diccionario de listas.\n",
        "\n",
        "    Args:\n",
        "        ruta_origen (str): Ruta al directorio raíz con las subcarpetas de imágenes.\n",
        "        proporcion_entrenamiento (float): Proporción de imágenes para entrenamiento.\n",
        "\n",
        "    Returns:\n",
        "        dict: Diccionario con las rutas de las imágenes y etiquetas, organizadas en entrenamiento y prueba.\n",
        "    \"\"\"\n",
        "\n",
        "    conjuntos_datos = {\n",
        "        \"entrenamiento\": {\"imagenes\": [], \"etiquetas\": []},\n",
        "        \"prueba\": {\"imagenes\": [], \"etiquetas\": []}\n",
        "    }\n",
        "\n",
        "    for persona in os.listdir(ruta_origen):\n",
        "        ruta_persona = os.path.join(ruta_origen, persona)\n",
        "        if os.path.isdir(ruta_persona):\n",
        "            imagenes = [os.path.join(ruta_persona, img) for img in os.listdir(ruta_persona) if img.lower().endswith(('.png', '.jpg', '.jpeg'))]\n",
        "            entrenamiento, prueba = train_test_split(imagenes, train_size=proporcion_entrenamiento, random_state=73)  # Semilla para reproducibilidad\n",
        "\n",
        "            # Guardar datos de entrenamiento\n",
        "            conjuntos_datos[\"entrenamiento\"][\"imagenes\"].extend(entrenamiento)\n",
        "            conjuntos_datos[\"entrenamiento\"][\"etiquetas\"].extend([persona] * len(entrenamiento))\n",
        "\n",
        "            # Guardar datos de prueba\n",
        "            conjuntos_datos[\"prueba\"][\"imagenes\"].extend(prueba)\n",
        "            conjuntos_datos[\"prueba\"][\"etiquetas\"].extend([persona] * len(prueba))\n",
        "\n",
        "    return conjuntos_datos\n",
        "\n"
      ],
      "metadata": {
        "id": "o--uL8m2FGjM"
      },
      "execution_count": null,
      "outputs": []
    },
    {
      "cell_type": "code",
      "source": [],
      "metadata": {
        "id": "7n3FgIU0U3fI"
      },
      "execution_count": null,
      "outputs": []
    },
    {
      "cell_type": "code",
      "source": [
        "# Ejemplo de uso\n",
        "# En la variable \"ruta_origen\" se encuentran las imagenes preprocesadas para enternamiento\n",
        "datos_divididos = dividir_datos(ruta_origen)\n",
        "\n",
        "# Acceder a los datos\n",
        "imagenes_entrenamiento = datos_divididos[\"entrenamiento\"][\"imagenes\"]\n",
        "etiquetas_entrenamiento = datos_divididos[\"entrenamiento\"][\"etiquetas\"]\n",
        "imagenes_prueba = datos_divididos[\"prueba\"][\"imagenes\"]\n",
        "etiquetas_prueba = datos_divididos[\"prueba\"][\"etiquetas\"]\n",
        "\n",
        "# Estructura de datos_divididos:\n",
        "# {\n",
        "#     \"entrenamiento\": {\n",
        "#         \"imagenes\": [\"ruta/a/imagen1.jpg\", \"ruta/a/imagen2.png\", ...],\n",
        "#         \"etiquetas\": [\"persona1\", \"persona1\", ...]\n",
        "#     },\n",
        "#     \"prueba\": {\n",
        "#         \"imagenes\": [\"ruta/a/imagen5.jpg\", \"ruta/a/imagen6.png\", ...],\n",
        "#         \"etiquetas\": [\"persona2\", \"persona2\", ...]\n",
        "#     }\n",
        "# }"
      ],
      "metadata": {
        "id": "phl4KxDlK9MA"
      },
      "execution_count": null,
      "outputs": []
    },
    {
      "cell_type": "markdown",
      "source": [],
      "metadata": {
        "id": "m_10gPpjUwM3"
      }
    },
    {
      "cell_type": "code",
      "source": [],
      "metadata": {
        "id": "YgieoLIbKXKe"
      },
      "execution_count": null,
      "outputs": []
    },
    {
      "cell_type": "code",
      "source": [
        "print(imagenes_entrenamiento)\n",
        "print(\"\\n\")\n",
        "print(etiquetas_entrenamiento)\n",
        "print(\"\\n\")\n",
        "print(imagenes_prueba)\n",
        "print(\"\\n\")\n",
        "print(etiquetas_prueba)"
      ],
      "metadata": {
        "id": "cnusTMYNK9Id"
      },
      "execution_count": null,
      "outputs": []
    },
    {
      "cell_type": "code",
      "source": [],
      "metadata": {
        "id": "9P1vAjTiKXNY"
      },
      "execution_count": null,
      "outputs": []
    },
    {
      "cell_type": "code",
      "source": [],
      "metadata": {
        "id": "is6fxzGaKXQn"
      },
      "execution_count": null,
      "outputs": []
    },
    {
      "cell_type": "code",
      "source": [],
      "metadata": {
        "id": "ewAq73H4KXTQ"
      },
      "execution_count": null,
      "outputs": []
    },
    {
      "cell_type": "code",
      "source": [],
      "metadata": {
        "id": "v21S8MSWKXWF"
      },
      "execution_count": null,
      "outputs": []
    },
    {
      "cell_type": "markdown",
      "source": [],
      "metadata": {
        "id": "iRVnN4HErQUi"
      }
    }
  ]
}