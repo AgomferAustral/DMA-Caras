{
  "nbformat": 4,
  "nbformat_minor": 0,
  "metadata": {
    "colab": {
      "provenance": [],
      "include_colab_link": true
    },
    "kernelspec": {
      "name": "python3",
      "display_name": "Python 3"
    },
    "language_info": {
      "name": "python"
    }
  },
  "cells": [
    {
      "cell_type": "markdown",
      "metadata": {
        "id": "view-in-github",
        "colab_type": "text"
      },
      "source": [
        "<a href=\"https://colab.research.google.com/github/AgomferAustral/DMA-Caras/blob/main/Eigenfaces.ipynb\" target=\"_parent\"><img src=\"https://colab.research.google.com/assets/colab-badge.svg\" alt=\"Open In Colab\"/></a>"
      ]
    },
    {
      "source": [
        "# conexion al Google Drive\n",
        "from google.colab import drive\n",
        "drive.mount('/content/drive')"
      ],
      "cell_type": "code",
      "metadata": {
        "colab": {
          "base_uri": "https://localhost:8080/"
        },
        "id": "WYbCH9LO3Acj",
        "outputId": "f7abf224-8ae7-4223-92c8-dcf9ceda0a89"
      },
      "execution_count": 1,
      "outputs": [
        {
          "output_type": "stream",
          "name": "stdout",
          "text": [
            "Mounted at /content/drive\n"
          ]
        }
      ]
    },
    {
      "source": [
        "# Importacion de librerias\n",
        "#!pip install --upgrade mediapipe\n"
      ],
      "cell_type": "code",
      "metadata": {
        "id": "0ssP3bZH3dZR",
        "collapsed": true
      },
      "execution_count": null,
      "outputs": []
    },
    {
      "cell_type": "code",
      "source": [
        "import os\n",
        "import cv2\n",
        "import sys\n",
        "import numpy as np"
      ],
      "metadata": {
        "id": "SEqwIhmUhJU9"
      },
      "execution_count": 8,
      "outputs": []
    },
    {
      "cell_type": "code",
      "source": [
        "face_cascade = cv2.CascadeClassifier(cv2.data.haarcascades + \"haarcascade_frontalface_default.xml\")"
      ],
      "metadata": {
        "id": "Nn3U-XUxb8uZ"
      },
      "execution_count": 23,
      "outputs": []
    },
    {
      "source": [
        "#!pip install --upgrade numpy\n",
        "#!pip install --upgrade scipy"
      ],
      "cell_type": "code",
      "metadata": {
        "collapsed": true,
        "id": "TyyBLLrOCOwP",
        "colab": {
          "base_uri": "https://localhost:8080/"
        },
        "outputId": "983cd1e8-81c0-47fc-96b9-b3592eaabc99"
      },
      "execution_count": null,
      "outputs": [
        {
          "output_type": "stream",
          "name": "stdout",
          "text": [
            "Requirement already satisfied: numpy in /usr/local/lib/python3.11/dist-packages (1.26.4)\n",
            "Collecting numpy\n",
            "  Using cached numpy-2.2.4-cp311-cp311-manylinux_2_17_x86_64.manylinux2014_x86_64.whl.metadata (62 kB)\n",
            "Using cached numpy-2.2.4-cp311-cp311-manylinux_2_17_x86_64.manylinux2014_x86_64.whl (16.4 MB)\n",
            "Installing collected packages: numpy\n",
            "  Attempting uninstall: numpy\n",
            "    Found existing installation: numpy 1.26.4\n",
            "    Uninstalling numpy-1.26.4:\n",
            "      Successfully uninstalled numpy-1.26.4\n",
            "\u001b[31mERROR: pip's dependency resolver does not currently take into account all the packages that are installed. This behaviour is the source of the following dependency conflicts.\n",
            "mediapipe 0.10.21 requires numpy<2, but you have numpy 2.2.4 which is incompatible.\n",
            "numba 0.60.0 requires numpy<2.1,>=1.22, but you have numpy 2.2.4 which is incompatible.\n",
            "tensorflow 2.18.0 requires numpy<2.1.0,>=1.26.0, but you have numpy 2.2.4 which is incompatible.\u001b[0m\u001b[31m\n",
            "\u001b[0mSuccessfully installed numpy-2.2.4\n",
            "Requirement already satisfied: scipy in /usr/local/lib/python3.11/dist-packages (1.15.2)\n",
            "Requirement already satisfied: numpy<2.5,>=1.23.5 in /usr/local/lib/python3.11/dist-packages (from scipy) (2.2.4)\n"
          ]
        }
      ]
    },
    {
      "cell_type": "code",
      "source": [],
      "metadata": {
        "collapsed": true,
        "id": "V3pZH_qBIKzB"
      },
      "execution_count": null,
      "outputs": []
    },
    {
      "source": [
        "# Definicion de ruta de conexion\n",
        "ruta_entrada = '/content/drive/MyDrive/Eigenfaces'\n",
        "ruta_salida = '/content/drive/MyDrive/Eigenfaces70x70'"
      ],
      "cell_type": "code",
      "metadata": {
        "id": "_pFRsi5H3x0-"
      },
      "execution_count": 9,
      "outputs": []
    },
    {
      "cell_type": "code",
      "source": [
        "# prompt: verificar si la carpeta en \"ruta_salida\" existe. Si no existe, crearla\n",
        "\n",
        "if not os.path.exists(ruta_salida):\n",
        "  os.makedirs(ruta_salida)\n"
      ],
      "metadata": {
        "id": "R9Pq2yVfWQAE"
      },
      "execution_count": 10,
      "outputs": []
    },
    {
      "cell_type": "code",
      "source": [
        "def procesar_archivos_en_carpetas(ruta_principal,ruta_final, img_size=(70, 70)):\n",
        "  \"\"\"Recorre las carpetas dentro de la ruta principal y procesa los archivos.\n",
        "\n",
        "  Args:\n",
        "    ruta_principal: La ruta de la carpeta principal.\n",
        "  \"\"\"\n",
        "  print(f\"Ruta principal: {ruta_principal}\")\n",
        "  for carpeta_actual, _, archivos in os.walk(ruta_principal):\n",
        "    print(f\"Carpeta actual: {carpeta_actual}\")\n",
        "    for archivo in archivos:\n",
        "      print(f\"Archivo: {archivo}\")\n",
        "      ruta_completa = os.path.join(carpeta_actual, archivo)\n",
        "      try:\n",
        "\n",
        "            img = cv2.imread(ruta_completa, cv2.IMREAD_GRAYSCALE)\n",
        "            if img is None:\n",
        "                print(f\"⚠️ No se pudo leer: {ruta_completa}\")\n",
        "                continue\n",
        "\n",
        "            # Detectar rostros\n",
        "            faces = face_cascade.detectMultiScale(img, scaleFactor=1.1, minNeighbors=5, minSize=(30, 30))\n",
        "\n",
        "            for i, (x, y, w, h) in enumerate(faces):\n",
        "                face = img[y:y+h, x:x+w]  # Recortar rostro\n",
        "                face_resized = cv2.resize(face, img_size)  # Redimensionar a 70x70\n",
        "\n",
        "                # Crear carpeta de salida manteniendo la estructura original\n",
        "                relative_path = os.path.relpath(carpeta_actual, ruta_entrada)\n",
        "                output_folder = os.path.join(ruta_salida, relative_path)\n",
        "                os.makedirs(output_folder, exist_ok=True)\n",
        "\n",
        "                # Guardar rostro procesado\n",
        "                output_path = os.path.join(output_folder, f\"{os.path.splitext(file)[0]}_face{i}.jpg\")\n",
        "                cv2.imwrite(output_path, face_resized)\n",
        "                print(f\"✅ Guardado: {output_path}\")\n",
        "\n",
        "\n",
        "      except Exception as e:\n",
        "          print(f\"❌ Error procesando {ruta_completa}: {e}\")\n",
        "\n",
        "\n",
        "\n",
        "\n",
        "\n",
        "\n",
        "\n",
        "      except Exception as e:\n",
        "        print(f\"Error al procesar el archivo {ruta_completa}: {e}\")\n",
        "\n",
        "# Ejemplo de uso:\n",
        "print(\"Procesando archivos\")\n",
        "procesar_archivos_en_carpetas(ruta_entrada, ruta_salida, img_size=(70, 70))\n",
        "print(\"Proceso inicial terminado ...\")"
      ],
      "metadata": {
        "id": "-9otdo5QIG_W",
        "outputId": "17230c0d-53d8-4ec5-c1ec-974dec44f917",
        "colab": {
          "base_uri": "https://localhost:8080/"
        }
      },
      "execution_count": 25,
      "outputs": [
        {
          "output_type": "stream",
          "name": "stdout",
          "text": [
            "Procesando archivos\n",
            "Ruta principal: /content/drive/MyDrive/Eigenfaces\n",
            "Carpeta actual: /content/drive/MyDrive/Eigenfaces\n",
            "Carpeta actual: /content/drive/MyDrive/Eigenfaces/Noelia R\n",
            "Archivo: 1742907849929.jpg\n"
          ]
        },
        {
          "output_type": "stream",
          "name": "stderr",
          "text": [
            "\n",
            "KeyboardInterrupt\n",
            "\n"
          ]
        }
      ]
    },
    {
      "cell_type": "code",
      "source": [],
      "metadata": {
        "id": "YgieoLIbKXKe"
      },
      "execution_count": null,
      "outputs": []
    },
    {
      "cell_type": "code",
      "source": [],
      "metadata": {
        "id": "9P1vAjTiKXNY"
      },
      "execution_count": null,
      "outputs": []
    },
    {
      "cell_type": "code",
      "source": [],
      "metadata": {
        "id": "is6fxzGaKXQn"
      },
      "execution_count": null,
      "outputs": []
    },
    {
      "cell_type": "code",
      "source": [],
      "metadata": {
        "id": "ewAq73H4KXTQ"
      },
      "execution_count": null,
      "outputs": []
    },
    {
      "cell_type": "code",
      "source": [],
      "metadata": {
        "id": "v21S8MSWKXWF"
      },
      "execution_count": null,
      "outputs": []
    },
    {
      "cell_type": "markdown",
      "source": [],
      "metadata": {
        "id": "iRVnN4HErQUi"
      }
    }
  ]
}