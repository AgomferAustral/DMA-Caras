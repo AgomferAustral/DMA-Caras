{
  "cells": [
    {
      "cell_type": "markdown",
      "metadata": {
        "id": "view-in-github",
        "colab_type": "text"
      },
      "source": [
        "<a href=\"https://colab.research.google.com/github/AgomferAustral/DMA-Caras/blob/main/aumentacion.ipynb\" target=\"_parent\"><img src=\"https://colab.research.google.com/assets/colab-badge.svg\" alt=\"Open In Colab\"/></a>"
      ]
    },
    {
      "cell_type": "code",
      "source": [
        "# prompt: abrir google drive\n",
        "\n",
        "from google.colab import drive\n",
        "\n",
        "# Unmount the drive first if it is mounted\n",
        "try:\n",
        "  drive.flush_and_unmount()\n",
        "except ValueError:\n",
        "  pass\n",
        "\n",
        "# Mount the drive to the desired path\n",
        "from google.colab import drive\n",
        "drive.mount('/content/drive', force_remount=True)\n",
        "\n",
        "# List files in your Drive\n",
        "!ls /content/drive/MyDrive\n"
      ],
      "metadata": {
        "id": "Y7J-iyHVrpDR",
        "outputId": "cb9ecc0e-a659-4cec-ce29-481cca483c70",
        "colab": {
          "base_uri": "https://localhost:8080/"
        }
      },
      "execution_count": 20,
      "outputs": [
        {
          "output_type": "stream",
          "name": "stdout",
          "text": [
            "Mounted at /content/drive\n",
            " BackPropagation.ipynb\t Detectadas   'Hoja de cálculo sin título.gsheet'\n",
            " caras\t\t\t Detectadas2   labo1\n",
            "'Colab Notebooks'\t DMA\t       shape_predictor_68_face_landmarks.dat\n",
            " datos_isomap.pkl\t fotos\t       viejos\n"
          ]
        }
      ]
    },
    {
      "cell_type": "code",
      "source": [],
      "metadata": {
        "id": "H5iUq9E_rzv0"
      },
      "execution_count": 20,
      "outputs": []
    },
    {
      "cell_type": "code",
      "source": [
        "import os\n",
        "from PIL import Image, ImageOps\n",
        "from pathlib import Path\n",
        "\n"
      ],
      "metadata": {
        "id": "WHPELNfxrprk"
      },
      "execution_count": 21,
      "outputs": []
    },
    {
      "cell_type": "code",
      "source": [
        "# Carpeta de origen y destino\n",
        "carpeta_origen = Path(\"/content/drive/MyDrive/Detectadas\")\n",
        "carpeta_destino = Path(\"/content/drive/MyDrive/Aumentadas\")\n"
      ],
      "metadata": {
        "id": "4KjWrAn4sk7E"
      },
      "execution_count": 22,
      "outputs": []
    },
    {
      "cell_type": "code",
      "source": [
        "# Crear carpeta destino si no existe\n",
        "carpeta_destino.mkdir(parents=True, exist_ok=True)\n",
        "\n",
        "# Transformaciones\n",
        "desplazamientos = [-10, 10]  # en px\n",
        "rotaciones = [-10, 10]  # en grados\n",
        "\n",
        "def desplazar(img, dx=0, dy=0):\n",
        "    \"\"\"Desplaza una imagen dentro del lienzo original.\"\"\"\n",
        "    fondo = Image.new(\"L\", img.size, color=0)  # Asumimos imágenes en escala de grises\n",
        "    fondo.paste(img, (dx, dy))\n",
        "    return fondo\n",
        "\n",
        "def guardar_variacion(imagen, nombre_base, sufijo, carpeta):\n",
        "    \"\"\"Guarda la imagen con sufijo en la carpeta destino.\"\"\"\n",
        "    nombre_archivo = f\"{nombre_base}_{sufijo}.png\"\n",
        "    ruta_guardado = carpeta / nombre_archivo\n",
        "    imagen.save(ruta_guardado)\n"
      ],
      "metadata": {
        "id": "FaQz4KCjslef"
      },
      "execution_count": 23,
      "outputs": []
    },
    {
      "cell_type": "code",
      "source": [
        "# version original con listas reducidas\n",
        "\n",
        "\"\"\"\n",
        "# Recorrer subcarpetas e imágenes\n",
        "for subcarpeta in carpeta_origen.iterdir():\n",
        "    if subcarpeta.is_dir():\n",
        "        sub_destino = carpeta_destino / subcarpeta.name\n",
        "        sub_destino.mkdir(parents=True, exist_ok=True)\n",
        "\n",
        "        for archivo in subcarpeta.glob(\"*.jp*g\"):  # Suponiendo imágenes .jpg\n",
        "            imagen = Image.open(archivo)\n",
        "            nombre_base = archivo.stem\n",
        "\n",
        "            # Guardar imagen original\n",
        "            imagen.save(sub_destino / f\"{nombre_base}_original.jpg\")\n",
        "\n",
        "            variaciones = []\n",
        "\n",
        "            # a) Desplazamientos horizontales\n",
        "            for dx in [-10, 10]:\n",
        "                img_dx = desplazar(imagen, dx=dx)\n",
        "                guardar_variacion(img_dx, nombre_base, f\"dx{dx}\", sub_destino)\n",
        "                variaciones.append((img_dx, f\"dx{dx}\"))\n",
        "\n",
        "            # b) Desplazamientos verticales\n",
        "            for dy in [-10,  10]:\n",
        "                img_dy = desplazar(imagen, dy=dy)\n",
        "                guardar_variacion(img_dy, nombre_base, f\"dy{dy}\", sub_destino)\n",
        "                variaciones.append((img_dy, f\"dy{dy}\"))\n",
        "\n",
        "            # c) Reflejo horizontal\n",
        "            img_flip = ImageOps.mirror(imagen)\n",
        "            guardar_variacion(img_flip, nombre_base, \"flip\", sub_destino)\n",
        "            variaciones.append((img_flip, \"flip\"))\n",
        "\n",
        "            # d) Rotaciones sobre todas las nuevas imágenes\n",
        "            for img, sufijo in variaciones + [(imagen, \"original\")]:\n",
        "                for ang in [-10, 10]:\n",
        "                    img_rot = img.rotate(ang, expand=True, fillcolor=0)\n",
        "                    guardar_variacion(img_rot, nombre_base, f\"{sufijo}_rot{ang}\", sub_destino)\n",
        "\"\"\""
      ],
      "metadata": {
        "id": "SdqQvh09sk3m",
        "colab": {
          "base_uri": "https://localhost:8080/",
          "height": 191
        },
        "outputId": "6c47961a-6ffb-4ec7-c17b-c122a8ada633"
      },
      "execution_count": 24,
      "outputs": [
        {
          "output_type": "execute_result",
          "data": {
            "text/plain": [
              "'\\n# Recorrer subcarpetas e imágenes\\nfor subcarpeta in carpeta_origen.iterdir():\\n    if subcarpeta.is_dir():\\n        sub_destino = carpeta_destino / subcarpeta.name\\n        sub_destino.mkdir(parents=True, exist_ok=True)\\n\\n        for archivo in subcarpeta.glob(\"*.jp*g\"):  # Suponiendo imágenes .jpg\\n            imagen = Image.open(archivo)\\n            nombre_base = archivo.stem\\n\\n            # Guardar imagen original\\n            imagen.save(sub_destino / f\"{nombre_base}_original.jpg\")\\n\\n            variaciones = []\\n\\n            # a) Desplazamientos horizontales\\n            for dx in [-10, 10]:\\n                img_dx = desplazar(imagen, dx=dx)\\n                guardar_variacion(img_dx, nombre_base, f\"dx{dx}\", sub_destino)\\n                variaciones.append((img_dx, f\"dx{dx}\"))\\n\\n            # b) Desplazamientos verticales\\n            for dy in [-10,  10]:\\n                img_dy = desplazar(imagen, dy=dy)\\n                guardar_variacion(img_dy, nombre_base, f\"dy{dy}\", sub_destino)\\n                variaciones.append((img_dy, f\"dy{dy}\"))\\n\\n            # c) Reflejo horizontal\\n            img_flip = ImageOps.mirror(imagen)\\n            guardar_variacion(img_flip, nombre_base, \"flip\", sub_destino)\\n            variaciones.append((img_flip, \"flip\"))\\n\\n            # d) Rotaciones sobre todas las nuevas imágenes\\n            for img, sufijo in variaciones + [(imagen, \"original\")]:\\n                for ang in [-10, 10]:\\n                    img_rot = img.rotate(ang, expand=True, fillcolor=0)\\n                    guardar_variacion(img_rot, nombre_base, f\"{sufijo}_rot{ang}\", sub_destino)\\n'"
            ],
            "application/vnd.google.colaboratory.intrinsic+json": {
              "type": "string"
            }
          },
          "metadata": {},
          "execution_count": 24
        }
      ]
    },
    {
      "cell_type": "code",
      "source": [
        "#nueva version\n",
        "\n",
        "# Recorrer subcarpetas e imágenes\n",
        "for subcarpeta in carpeta_origen.iterdir():\n",
        "    if subcarpeta.is_dir():\n",
        "        sub_destino = carpeta_destino / subcarpeta.name\n",
        "        sub_destino.mkdir(parents=True, exist_ok=True)\n",
        "\n",
        "        for archivo in subcarpeta.glob(\"*.jp*g\"):  # Suponiendo imágenes .jpg\n",
        "            imagen = Image.open(archivo).convert(\"L\") # Ensure grayscale for consistent displacement background\n",
        "            nombre_base = archivo.stem\n",
        "\n",
        "            # Get image dimensions for percentage calculations\n",
        "            ancho, alto = imagen.size\n",
        "            desplazamiento_horizontal = int(ancho * 0.05)\n",
        "            desplazamiento_vertical = int(alto * 0.05)\n",
        "\n",
        "            # Guardar imagen original\n",
        "            #imagen.save(sub_destino / f\"{nombre_base}_original.jpg\")\n",
        "\n",
        "            # --- Apply transformations based on the original image ---\n",
        "\n",
        "            # a) Desplazamientos horizontales (5% izquierda y derecha)\n",
        "            img_dx_left = desplazar(imagen, dx=-desplazamiento_horizontal)\n",
        "            guardar_variacion(img_dx_left, nombre_base, f\"dx{-int(desplazamiento_horizontal/ancho*100)}pct\", sub_destino)\n",
        "\n",
        "            img_dx_right = desplazar(imagen, dx=desplazamiento_horizontal)\n",
        "            guardar_variacion(img_dx_right, nombre_base, f\"dx{int(desplazamiento_horizontal/ancho*100)}pct\", sub_destino)\n",
        "\n",
        "            # b) Desplazamientos verticales (5% arriba y abajo)\n",
        "            img_dy_up = desplazar(imagen, dy=-desplazamiento_vertical)\n",
        "            guardar_variacion(img_dy_up, nombre_base, f\"dy{-int(desplazamiento_vertical/alto*100)}pct\", sub_destino)\n",
        "\n",
        "            img_dy_down = desplazar(imagen, dy=desplazamiento_vertical)\n",
        "            guardar_variacion(img_dy_down, nombre_base, f\"dy{int(desplazamiento_vertical/alto*100)}pct\", sub_destino)\n",
        "\n",
        "            # c) Rotaciones (10 grados horario y antihorario)\n",
        "            img_rot_neg10 = imagen.rotate(-10, expand=True, fillcolor=0)\n",
        "            guardar_variacion(img_rot_neg10, nombre_base, \"rot-10\", sub_destino)\n",
        "\n",
        "            img_rot_pos10 = imagen.rotate(10, expand=True, fillcolor=0)\n",
        "            guardar_variacion(img_rot_pos10, nombre_base, \"rot10\", sub_destino)\n",
        "\n",
        "            # Note: We removed the horizontal flip and the subsequent rotations\n",
        "            # on variations as per your request to only use the original image."
      ],
      "metadata": {
        "id": "9sU-wz5Vsk0m"
      },
      "execution_count": 25,
      "outputs": []
    },
    {
      "cell_type": "code",
      "source": [
        "Stop"
      ],
      "metadata": {
        "id": "ZRwMB5UcskxM",
        "colab": {
          "base_uri": "https://localhost:8080/",
          "height": 141
        },
        "outputId": "452a6d59-cdf4-4bca-9b19-8dc4ccd45e11"
      },
      "execution_count": 26,
      "outputs": [
        {
          "output_type": "error",
          "ename": "NameError",
          "evalue": "name 'Stop' is not defined",
          "traceback": [
            "\u001b[0;31m---------------------------------------------------------------------------\u001b[0m",
            "\u001b[0;31mNameError\u001b[0m                                 Traceback (most recent call last)",
            "\u001b[0;32m<ipython-input-26-2f5b7ddeb9e0>\u001b[0m in \u001b[0;36m<cell line: 0>\u001b[0;34m()\u001b[0m\n\u001b[0;32m----> 1\u001b[0;31m \u001b[0mStop\u001b[0m\u001b[0;34m\u001b[0m\u001b[0;34m\u001b[0m\u001b[0m\n\u001b[0m",
            "\u001b[0;31mNameError\u001b[0m: name 'Stop' is not defined"
          ]
        }
      ]
    },
    {
      "cell_type": "code",
      "source": [],
      "metadata": {
        "id": "w2ttBe7DFIRT"
      },
      "execution_count": null,
      "outputs": []
    },
    {
      "cell_type": "markdown",
      "source": [
        "# No estoy utilizando estos otros efectos"
      ],
      "metadata": {
        "id": "zOK1IQdra5Oa"
      }
    },
    {
      "cell_type": "markdown",
      "source": [
        "# Efecto ojo de pez"
      ],
      "metadata": {
        "id": "vttJdIknniRS"
      }
    },
    {
      "cell_type": "code",
      "source": [
        "import numpy as np\n",
        "import cv2\n",
        "from matplotlib import pyplot as plt\n",
        "\n",
        "img = cv2.imread('/content/drive/MyDrive/origen/sujeto2/foto.jpg')\n",
        "destino=Path(\"/content/drive/MyDrive/destino/sujeto2\")\n",
        "\n",
        "# Crear carpeta destino si no existe\n",
        "destino.mkdir(parents=True, exist_ok=True)\n",
        "\n",
        "img = cv2.cvtColor(img, cv2.COLOR_BGR2GRAY)\n",
        "\n",
        "plt.imshow(img)\n",
        "plt.title(\"Imagen original\")\n",
        "plt.axis('off')\n",
        "plt.show()\n",
        "\n",
        "h, w = img.shape[:2]\n",
        "K = np.array([[w, 0, w/2],\n",
        "              [0, w, h/2],\n",
        "              [0, 0, 1]], dtype=np.float32)\n",
        "\n",
        "valores = [-0.3,-0.1, 0, 0.1, 0.3]\n",
        "valores2 = [-0.1, 0, 0.1]\n",
        "\n",
        "for i in valores:\n",
        "  for j in valores:\n",
        "    for k in valores2:\n",
        "      for l in [0]:\n",
        "        for m in [0]:\n",
        "          # Coeficientes de distorsión (k1, k2, p1, p2, k3)\n",
        "          dist_coeffs = np.array([i, j, k, l, m])  # Ajustá para intensificar o reducir\n",
        "\n",
        "          # Aplicar distorsión\n",
        "          map1, map2 = cv2.initUndistortRectifyMap(K, dist_coeffs, None, K, (w, h), cv2.CV_32FC1)\n",
        "          fisheye_img = cv2.remap(img, map1, map2, interpolation=cv2.INTER_LINEAR)\n",
        "\n",
        "          nombre_archivo = f\"foto_{i}{j}{k}.jpg\"\n",
        "          print(nombre_archivo)\n",
        "          ruta_guardado = f\"{destino}/{nombre_archivo}\"\n",
        "          cv2.imwrite(ruta_guardado, fisheye_img)\n",
        "\n"
      ],
      "metadata": {
        "id": "HxsBJbEGsktu"
      },
      "execution_count": null,
      "outputs": []
    },
    {
      "cell_type": "markdown",
      "source": [
        "# Efecto zoom / teleobjetivo"
      ],
      "metadata": {
        "id": "uCD2z4a6no6_"
      }
    },
    {
      "cell_type": "code",
      "source": [
        "import cv2\n",
        "import matplotlib.pyplot as plt\n",
        "\n",
        "def zoom_center(img, zoom_factor=2.0):\n",
        "    h, w = img.shape[:2]\n",
        "    new_h, new_w = int(h / zoom_factor), int(w / zoom_factor)\n",
        "\n",
        "    # Coordenadas del recorte central\n",
        "    start_y = (h - new_h) // 2\n",
        "    start_x = (w - new_w) // 2\n",
        "\n",
        "    # Recortar y redimensionar al tamaño original\n",
        "    cropped = img[start_y:start_y+new_h, start_x:start_x+new_w]\n",
        "    zoomed = cv2.resize(cropped, (w, h), interpolation=cv2.INTER_LINEAR)\n",
        "\n",
        "    return zoomed\n",
        "\n",
        "# Cargar imagen\n",
        "img = cv2.imread(\"/content/drive/MyDrive/origen/sujeto2/foto.jpg\")\n",
        "img = cv2.cvtColor(img, cv2.COLOR_BGR2RGB)\n",
        "\n",
        "# Aplicar zoom\n",
        "zoom_img = zoom_center(img, zoom_factor=1.2)\n",
        "\n",
        "# Mostrar\n",
        "plt.figure(figsize=(10,5))\n",
        "plt.subplot(1, 2, 1)\n",
        "plt.imshow(img)\n",
        "plt.title(\"Original\")\n",
        "plt.axis('off')\n",
        "\n",
        "plt.subplot(1, 2, 2)\n",
        "plt.imshow(zoom_img)\n",
        "plt.title(\"Zoom / Teleobjetivo\")\n",
        "plt.axis('off')\n",
        "plt.show()\n"
      ],
      "metadata": {
        "id": "0mpt0nyzskqk"
      },
      "execution_count": null,
      "outputs": []
    },
    {
      "cell_type": "code",
      "source": [],
      "metadata": {
        "id": "k-rOtl4ksknE"
      },
      "execution_count": null,
      "outputs": []
    },
    {
      "cell_type": "code",
      "source": [],
      "metadata": {
        "id": "yf7kKf30skfw"
      },
      "execution_count": null,
      "outputs": []
    },
    {
      "cell_type": "code",
      "source": [],
      "metadata": {
        "id": "llETXuwDskbT"
      },
      "execution_count": null,
      "outputs": []
    },
    {
      "cell_type": "markdown",
      "source": [
        "# Efecto zoom a toda la carpeta"
      ],
      "metadata": {
        "id": "KZX_GIjrpQ9F"
      }
    },
    {
      "cell_type": "code",
      "source": [
        "import os\n",
        "import cv2\n",
        "from pathlib import Path\n",
        "\n",
        "def zoom_center(img, zoom_factor=1.2):\n",
        "    \"\"\"Applies zoom effect to the center of an image.\"\"\"\n",
        "    h, w = img.shape[:2]\n",
        "    new_h, new_w = int(h / zoom_factor), int(w / zoom_factor)\n",
        "    start_y = (h - new_h) // 2\n",
        "    start_x = (w - new_w) // 2\n",
        "    cropped = img[start_y:start_y+new_h, start_x:start_x+new_w]\n",
        "    zoomed = cv2.resize(cropped, (w, h), interpolation=cv2.INTER_LINEAR)\n",
        "    return zoomed\n",
        "\n",
        "# Define source and destination folders\n",
        "carpeta_origen = Path(\"/content/drive/MyDrive/destino\")  # Source folder\n",
        "carpeta_destino = Path(\"/content/drive/MyDrive/destino2\") # Destination folder\n",
        "\n",
        "# Create destination folder if it doesn't exist\n",
        "carpeta_destino.mkdir(parents=True, exist_ok=True)\n",
        "\n",
        "# Iterate through subfolders and images\n",
        "for subcarpeta in carpeta_origen.iterdir():\n",
        "    if subcarpeta.is_dir():\n",
        "        # Create corresponding subfolder in destination\n",
        "        sub_destino = carpeta_destino / subcarpeta.name\n",
        "        sub_destino.mkdir(parents=True, exist_ok=True)\n",
        "\n",
        "        for archivo in subcarpeta.glob(\"*.jp*g\"):  # Assuming .jpg or .jpeg images\n",
        "            # Load image in grayscale\n",
        "            img = cv2.imread(str(archivo), cv2.IMREAD_GRAYSCALE)\n",
        "\n",
        "            # Apply zoom effect\n",
        "            zoom_factor = 1.2\n",
        "            zoom_img = zoom_center(img,1.5)\n",
        "\n",
        "            # Save zoomed image in destination folder\n",
        "            nombre_archivo = f\"{zoom_factor}{archivo.name}\"  # Keep original filename\n",
        "            ruta_guardado = sub_destino / nombre_archivo\n",
        "            cv2.imwrite(str(ruta_guardado), zoom_img)\n",
        "\n",
        "print(\"Zoom effect applied and images saved to 'destino2' folder.\")"
      ],
      "metadata": {
        "id": "Uf22Q-ctskXS"
      },
      "execution_count": null,
      "outputs": []
    },
    {
      "cell_type": "code",
      "source": [],
      "metadata": {
        "id": "yHOOQo9Wrpei"
      },
      "execution_count": null,
      "outputs": []
    }
  ],
  "metadata": {
    "colab": {
      "provenance": [],
      "include_colab_link": true
    },
    "kernelspec": {
      "display_name": "Python 3",
      "name": "python3"
    }
  },
  "nbformat": 4,
  "nbformat_minor": 0
}