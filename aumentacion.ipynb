{
  "cells": [
    {
      "cell_type": "markdown",
      "metadata": {
        "id": "view-in-github",
        "colab_type": "text"
      },
      "source": [
        "<a href=\"https://colab.research.google.com/github/AgomferAustral/DMA-Caras/blob/main/aumentacion.ipynb\" target=\"_parent\"><img src=\"https://colab.research.google.com/assets/colab-badge.svg\" alt=\"Open In Colab\"/></a>"
      ]
    },
    {
      "cell_type": "markdown",
      "source": [
        "# Aumentacion de datos\n",
        "### Version 1.0\n",
        "## Fotos de entrada en: Detectadas\n",
        "## Fotos de salida en: Aumentadas"
      ],
      "metadata": {
        "id": "loguMjAfYuoM"
      }
    },
    {
      "cell_type": "code",
      "source": [
        "# prompt: abrir google drive\n",
        "\n",
        "from google.colab import drive\n",
        "\n",
        "# Unmount the drive first if it is mounted\n",
        "try:\n",
        "  drive.flush_and_unmount()\n",
        "except ValueError:\n",
        "  pass\n",
        "\n",
        "# Mount the drive to the desired path\n",
        "from google.colab import drive\n",
        "drive.mount('/content/drive', force_remount=True)\n",
        "\n",
        "# List files in your Drive\n",
        "!ls /content/drive/MyDrive\n"
      ],
      "metadata": {
        "id": "Y7J-iyHVrpDR",
        "outputId": "cb9ecc0e-a659-4cec-ce29-481cca483c70",
        "colab": {
          "base_uri": "https://localhost:8080/"
        }
      },
      "execution_count": null,
      "outputs": [
        {
          "output_type": "stream",
          "name": "stdout",
          "text": [
            "Mounted at /content/drive\n",
            " BackPropagation.ipynb\t Detectadas   'Hoja de cálculo sin título.gsheet'\n",
            " caras\t\t\t Detectadas2   labo1\n",
            "'Colab Notebooks'\t DMA\t       shape_predictor_68_face_landmarks.dat\n",
            " datos_isomap.pkl\t fotos\t       viejos\n"
          ]
        }
      ]
    },
    {
      "cell_type": "code",
      "source": [],
      "metadata": {
        "id": "H5iUq9E_rzv0"
      },
      "execution_count": null,
      "outputs": []
    },
    {
      "cell_type": "code",
      "source": [
        "import os\n",
        "from PIL import Image, ImageOps\n",
        "from pathlib import Path\n",
        "\n"
      ],
      "metadata": {
        "id": "WHPELNfxrprk"
      },
      "execution_count": null,
      "outputs": []
    },
    {
      "cell_type": "code",
      "source": [
        "# Carpeta de origen y destino\n",
        "carpeta_origen = Path(\"/content/drive/MyDrive/Detectadas\")\n",
        "carpeta_destino = Path(\"/content/drive/MyDrive/Aumentadas\")\n"
      ],
      "metadata": {
        "id": "4KjWrAn4sk7E"
      },
      "execution_count": null,
      "outputs": []
    },
    {
      "cell_type": "code",
      "source": [
        "# Crear carpeta destino si no existe\n",
        "carpeta_destino.mkdir(parents=True, exist_ok=True)\n",
        "\n",
        "# Transformaciones\n",
        "desplazamientos = [-10, 10]  # en px\n",
        "rotaciones = [-10, 10]  # en grados\n",
        "\n",
        "def desplazar(img, dx=0, dy=0):\n",
        "    \"\"\"Desplaza una imagen dentro del lienzo original.\"\"\"\n",
        "    fondo = Image.new(\"L\", img.size, color=0)  # Asumimos imágenes en escala de grises\n",
        "    fondo.paste(img, (dx, dy))\n",
        "    return fondo\n",
        "\n",
        "def guardar_variacion(imagen, nombre_base, sufijo, carpeta):\n",
        "    \"\"\"Guarda la imagen con sufijo en la carpeta destino.\"\"\"\n",
        "    nombre_archivo = f\"{nombre_base}_{sufijo}.png\"\n",
        "    ruta_guardado = carpeta / nombre_archivo\n",
        "    imagen.save(ruta_guardado)\n"
      ],
      "metadata": {
        "id": "FaQz4KCjslef"
      },
      "execution_count": null,
      "outputs": []
    },
    {
      "cell_type": "code",
      "source": [
        "# Recorrer subcarpetas e imágenes\n",
        "for subcarpeta in carpeta_origen.iterdir():\n",
        "    if subcarpeta.is_dir():\n",
        "        sub_destino = carpeta_destino / subcarpeta.name\n",
        "        sub_destino.mkdir(parents=True, exist_ok=True)\n",
        "\n",
        "        for archivo in subcarpeta.glob(\"*.jp*g\"):  # Suponiendo imágenes .jpg\n",
        "            imagen = Image.open(archivo).convert(\"L\") # Ensure grayscale for consistent displacement background\n",
        "            nombre_base = archivo.stem\n",
        "\n",
        "            # Get image dimensions for percentage calculations\n",
        "            ancho, alto = imagen.size\n",
        "            desplazamiento_horizontal = int(ancho * 0.05)\n",
        "            desplazamiento_vertical = int(alto * 0.05)\n",
        "\n",
        "            # Guardar imagen original\n",
        "            #imagen.save(sub_destino / f\"{nombre_base}_original.jpg\")\n",
        "\n",
        "            # --- Apply transformations based on the original image ---\n",
        "\n",
        "            # a) Desplazamientos horizontales (5% izquierda y derecha)\n",
        "            img_dx_left = desplazar(imagen, dx=-desplazamiento_horizontal)\n",
        "            guardar_variacion(img_dx_left, nombre_base, f\"dx{-int(desplazamiento_horizontal/ancho*100)}pct\", sub_destino)\n",
        "\n",
        "            img_dx_right = desplazar(imagen, dx=desplazamiento_horizontal)\n",
        "            guardar_variacion(img_dx_right, nombre_base, f\"dx{int(desplazamiento_horizontal/ancho*100)}pct\", sub_destino)\n",
        "\n",
        "            # b) Desplazamientos verticales (5% arriba y abajo)\n",
        "            img_dy_up = desplazar(imagen, dy=-desplazamiento_vertical)\n",
        "            guardar_variacion(img_dy_up, nombre_base, f\"dy{-int(desplazamiento_vertical/alto*100)}pct\", sub_destino)\n",
        "\n",
        "            img_dy_down = desplazar(imagen, dy=desplazamiento_vertical)\n",
        "            guardar_variacion(img_dy_down, nombre_base, f\"dy{int(desplazamiento_vertical/alto*100)}pct\", sub_destino)\n",
        "\n",
        "            # c) Rotaciones (10 grados horario y antihorario)\n",
        "            img_rot_neg10 = imagen.rotate(-10, expand=True, fillcolor=0)\n",
        "            guardar_variacion(img_rot_neg10, nombre_base, \"rot-10\", sub_destino)\n",
        "\n",
        "            img_rot_pos10 = imagen.rotate(10, expand=True, fillcolor=0)\n",
        "            guardar_variacion(img_rot_pos10, nombre_base, \"rot10\", sub_destino)\n",
        "\n",
        "            # Note: We removed the horizontal flip and the subsequent rotations\n",
        "            # on variations as per your request to only use the original image."
      ],
      "metadata": {
        "id": "9sU-wz5Vsk0m"
      },
      "execution_count": null,
      "outputs": []
    },
    {
      "cell_type": "code",
      "source": [],
      "metadata": {
        "id": "w2ttBe7DFIRT"
      },
      "execution_count": null,
      "outputs": []
    },
    {
      "cell_type": "code",
      "source": [],
      "metadata": {
        "id": "llETXuwDskbT"
      },
      "execution_count": null,
      "outputs": []
    }
  ],
  "metadata": {
    "colab": {
      "provenance": [],
      "include_colab_link": true
    },
    "kernelspec": {
      "display_name": "Python 3",
      "name": "python3"
    }
  },
  "nbformat": 4,
  "nbformat_minor": 0
}