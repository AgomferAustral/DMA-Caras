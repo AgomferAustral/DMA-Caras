{
  "cells": [
    {
      "cell_type": "markdown",
      "metadata": {
        "id": "view-in-github",
        "colab_type": "text"
      },
      "source": [
        "<a href=\"https://colab.research.google.com/github/AgomferAustral/DMA-Caras/blob/main/caras/app/main.ipynb\" target=\"_parent\"><img src=\"https://colab.research.google.com/assets/colab-badge.svg\" alt=\"Open In Colab\"/></a>"
      ]
    },
    {
      "cell_type": "markdown",
      "metadata": {
        "id": "VmwXU0k2fKXn"
      },
      "source": [
        "#Main entrenamiento\n",
        "### Version 1.0\n",
        "## Pipeline para entrenamiento"
      ]
    },
    {
      "cell_type": "code",
      "execution_count": 5,
      "metadata": {
        "id": "M0TcxaJjfFN4"
      },
      "outputs": [],
      "source": [
        "import os\n",
        "\n",
        "if not os.path.exists('/content/drive/MyDrive'):\n",
        "    from google.colab import drive\n",
        "    drive.mount('/content/drive')"
      ]
    },
    {
      "cell_type": "code",
      "execution_count": 6,
      "metadata": {
        "id": "VL2vCAlOfLv1"
      },
      "outputs": [],
      "source": [
        "# Bibliotecas necesarias\n",
        "\n",
        "import sys\n",
        "import subprocess\n",
        "\n",
        "def instalar_si_falta(paquete):\n",
        "    try:\n",
        "        __import__(paquete)\n",
        "    except ImportError:\n",
        "        print(f\"Instalando {paquete}...\")\n",
        "        subprocess.check_call([sys.executable, \"-m\", \"pip\", \"install\", paquete])\n",
        "\n",
        "instalar_si_falta(\"nbformat\")\n",
        "instalar_si_falta(\"nbclient\")\n",
        "\n",
        "import nbformat\n",
        "from nbclient import NotebookClient"
      ]
    },
    {
      "cell_type": "code",
      "execution_count": 7,
      "metadata": {
        "id": "kYa4o_upfLr-"
      },
      "outputs": [],
      "source": [
        "# Función para ejecutar un notebook\n",
        "# en Google Colab\n",
        "def ejecutar_notebook(ruta_notebook):\n",
        "    with open(ruta_notebook) as f:\n",
        "        nb = nbformat.read(f, as_version=4)\n",
        "    client = NotebookClient(nb)\n",
        "    client.execute()\n",
        "    print(f\"Notebook ejecutado: {ruta_notebook}\")\n"
      ]
    },
    {
      "cell_type": "code",
      "execution_count": 11,
      "metadata": {
        "id": "Oy9Dk6rvfLoN"
      },
      "outputs": [],
      "source": [
        "# Rutas a los notebooks\n",
        "base_path = \"/content/drive/MyDrive/caras/app/\"\n",
        "\n",
        "notebooks = [\n",
        "    \"deteccion.ipynb\",\n",
        "    \"aumentacion.ipynb\",\n",
        "    \"deteccionaumentadas.ipynb\",\n",
        "    \"procesamiento.ipynb\",\n",
        "    \"isomap.ipynb\",\n",
        "    \"entrenamiento.ipynb\"\n",
        "]\n"
      ]
    },
    {
      "cell_type": "code",
      "execution_count": 12,
      "metadata": {
        "id": "6KR1rsaafLjU",
        "colab": {
          "base_uri": "https://localhost:8080/",
          "height": 384
        },
        "outputId": "2587c083-c0d0-4022-deef-ec437bb1211a"
      },
      "outputs": [
        {
          "output_type": "stream",
          "name": "stdout",
          "text": [
            "Notebook ejecutado: /content/drive/MyDrive/caras/app/deteccion.ipynb\n",
            "Notebook ejecutado: /content/drive/MyDrive/caras/app/aumentacion.ipynb\n",
            "Notebook ejecutado: /content/drive/MyDrive/caras/app/deteccionaumentadas.ipynb\n",
            "Notebook ejecutado: /content/drive/MyDrive/caras/app/procesamiento.ipynb\n"
          ]
        },
        {
          "output_type": "error",
          "ename": "FileNotFoundError",
          "evalue": "[Errno 2] No such file or directory: '/content/drive/MyDrive/caras/app/separacion.ipynb'",
          "traceback": [
            "\u001b[0;31m---------------------------------------------------------------------------\u001b[0m",
            "\u001b[0;31mFileNotFoundError\u001b[0m                         Traceback (most recent call last)",
            "\u001b[0;32m<ipython-input-12-f96792e65512>\u001b[0m in \u001b[0;36m<cell line: 0>\u001b[0;34m()\u001b[0m\n\u001b[1;32m      2\u001b[0m \u001b[0;34m\u001b[0m\u001b[0m\n\u001b[1;32m      3\u001b[0m \u001b[0;32mfor\u001b[0m \u001b[0mnb_nombre\u001b[0m \u001b[0;32min\u001b[0m \u001b[0mnotebooks\u001b[0m\u001b[0;34m:\u001b[0m\u001b[0;34m\u001b[0m\u001b[0;34m\u001b[0m\u001b[0m\n\u001b[0;32m----> 4\u001b[0;31m     \u001b[0mejecutar_notebook\u001b[0m\u001b[0;34m(\u001b[0m\u001b[0mbase_path\u001b[0m \u001b[0;34m+\u001b[0m \u001b[0mnb_nombre\u001b[0m\u001b[0;34m)\u001b[0m\u001b[0;34m\u001b[0m\u001b[0;34m\u001b[0m\u001b[0m\n\u001b[0m",
            "\u001b[0;32m<ipython-input-7-2acdf51c3842>\u001b[0m in \u001b[0;36mejecutar_notebook\u001b[0;34m(ruta_notebook)\u001b[0m\n\u001b[1;32m      2\u001b[0m \u001b[0;31m# en Google Colab\u001b[0m\u001b[0;34m\u001b[0m\u001b[0;34m\u001b[0m\u001b[0m\n\u001b[1;32m      3\u001b[0m \u001b[0;32mdef\u001b[0m \u001b[0mejecutar_notebook\u001b[0m\u001b[0;34m(\u001b[0m\u001b[0mruta_notebook\u001b[0m\u001b[0;34m)\u001b[0m\u001b[0;34m:\u001b[0m\u001b[0;34m\u001b[0m\u001b[0;34m\u001b[0m\u001b[0m\n\u001b[0;32m----> 4\u001b[0;31m     \u001b[0;32mwith\u001b[0m \u001b[0mopen\u001b[0m\u001b[0;34m(\u001b[0m\u001b[0mruta_notebook\u001b[0m\u001b[0;34m)\u001b[0m \u001b[0;32mas\u001b[0m \u001b[0mf\u001b[0m\u001b[0;34m:\u001b[0m\u001b[0;34m\u001b[0m\u001b[0;34m\u001b[0m\u001b[0m\n\u001b[0m\u001b[1;32m      5\u001b[0m         \u001b[0mnb\u001b[0m \u001b[0;34m=\u001b[0m \u001b[0mnbformat\u001b[0m\u001b[0;34m.\u001b[0m\u001b[0mread\u001b[0m\u001b[0;34m(\u001b[0m\u001b[0mf\u001b[0m\u001b[0;34m,\u001b[0m \u001b[0mas_version\u001b[0m\u001b[0;34m=\u001b[0m\u001b[0;36m4\u001b[0m\u001b[0;34m)\u001b[0m\u001b[0;34m\u001b[0m\u001b[0;34m\u001b[0m\u001b[0m\n\u001b[1;32m      6\u001b[0m     \u001b[0mclient\u001b[0m \u001b[0;34m=\u001b[0m \u001b[0mNotebookClient\u001b[0m\u001b[0;34m(\u001b[0m\u001b[0mnb\u001b[0m\u001b[0;34m)\u001b[0m\u001b[0;34m\u001b[0m\u001b[0;34m\u001b[0m\u001b[0m\n",
            "\u001b[0;31mFileNotFoundError\u001b[0m: [Errno 2] No such file or directory: '/content/drive/MyDrive/caras/app/separacion.ipynb'"
          ]
        }
      ],
      "source": [
        "# Ejecuto los notebooks\n",
        "\n",
        "for nb_nombre in notebooks:\n",
        "    ejecutar_notebook(base_path + nb_nombre)"
      ]
    },
    {
      "cell_type": "code",
      "execution_count": null,
      "metadata": {
        "id": "Q2CbD8wSfLbm"
      },
      "outputs": [],
      "source": []
    },
    {
      "cell_type": "code",
      "execution_count": null,
      "metadata": {
        "id": "DdvhEod1fLXe"
      },
      "outputs": [],
      "source": []
    }
  ],
  "metadata": {
    "colab": {
      "provenance": [],
      "include_colab_link": true
    },
    "kernelspec": {
      "display_name": "Python 3",
      "name": "python3"
    },
    "language_info": {
      "name": "python"
    }
  },
  "nbformat": 4,
  "nbformat_minor": 0
}
