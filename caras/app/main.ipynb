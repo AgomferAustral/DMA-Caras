{
  "cells": [
    {
      "cell_type": "markdown",
      "metadata": {
        "colab_type": "text",
        "id": "view-in-github"
      },
      "source": [
        "<a href=\"https://colab.research.google.com/github/AgomferAustral/DMA-Caras/blob/main/main.ipynb\" target=\"_parent\"><img src=\"https://colab.research.google.com/assets/colab-badge.svg\" alt=\"Open In Colab\"/></a>"
      ]
    },
    {
      "cell_type": "markdown",
      "metadata": {
        "id": "VmwXU0k2fKXn"
      },
      "source": [
        "#Main entrenamiento\n",
        "### Version 1.0\n",
        "## Pipeline para entrenamiento"
      ]
    },
    {
      "cell_type": "code",
      "execution_count": null,
      "metadata": {
        "id": "M0TcxaJjfFN4"
      },
      "outputs": [],
      "source": [
        "import os\n",
        "\n",
        "if not os.path.exists('/content/drive/MyDrive'):\n",
        "    from google.colab import drive\n",
        "    drive.mount('/content/drive')"
      ]
    },
    {
      "cell_type": "code",
      "execution_count": null,
      "metadata": {
        "id": "VL2vCAlOfLv1"
      },
      "outputs": [],
      "source": [
        "# Bibliotecas necesarias\n",
        "\n",
        "import sys\n",
        "import subprocess\n",
        "\n",
        "def instalar_si_falta(paquete):\n",
        "    try:\n",
        "        __import__(paquete)\n",
        "    except ImportError:\n",
        "        print(f\"Instalando {paquete}...\")\n",
        "        subprocess.check_call([sys.executable, \"-m\", \"pip\", \"install\", paquete])\n",
        "\n",
        "instalar_si_falta(\"nbformat\")\n",
        "instalar_si_falta(\"nbclient\")\n",
        "\n",
        "import nbformat\n",
        "from nbclient import NotebookClient"
      ]
    },
    {
      "cell_type": "code",
      "execution_count": null,
      "metadata": {
        "id": "kYa4o_upfLr-"
      },
      "outputs": [],
      "source": [
        "# Función para ejecutar un notebook\n",
        "# en Google Colab\n",
        "def ejecutar_notebook(ruta_notebook):\n",
        "    with open(ruta_notebook) as f:\n",
        "        nb = nbformat.read(f, as_version=4)\n",
        "    client = NotebookClient(nb)\n",
        "    client.execute()\n",
        "    print(f\"Notebook ejecutado: {ruta_notebook}\")\n"
      ]
    },
    {
      "cell_type": "code",
      "execution_count": null,
      "metadata": {
        "id": "Oy9Dk6rvfLoN"
      },
      "outputs": [],
      "source": [
        "# Rutas a los notebooks\n",
        "base_path = \"/content/drive/MyDrive/caras/app/\"\n",
        "\n",
        "notebooks = [\n",
        "    \"deteccion.ipynb\",\n",
        "    \"aumentacion.ipynb\",\n",
        "    \"deteccionaumentadas.ipynb\",\n",
        "    \"procesamiento.ipynb\",\n",
        "    \"separacion.ipynb\",\n",
        "    \"isomap.ipynb\"\n",
        "    \"entrenamiento.ipynb\"\n",
        "]\n"
      ]
    },
    {
      "cell_type": "code",
      "execution_count": null,
      "metadata": {
        "id": "6KR1rsaafLjU"
      },
      "outputs": [],
      "source": [
        "# Ejecuto los notebooks\n",
        "\n",
        "for nb_nombre in notebooks:\n",
        "    ejecutar_notebook(base_path + nb_nombre)"
      ]
    },
    {
      "cell_type": "code",
      "execution_count": null,
      "metadata": {
        "id": "Q2CbD8wSfLbm"
      },
      "outputs": [],
      "source": []
    },
    {
      "cell_type": "code",
      "execution_count": null,
      "metadata": {
        "id": "DdvhEod1fLXe"
      },
      "outputs": [],
      "source": []
    }
  ],
  "metadata": {
    "colab": {
      "authorship_tag": "ABX9TyPu+3BuhkLMfi9pR8rf7Rc3",
      "include_colab_link": true,
      "provenance": []
    },
    "kernelspec": {
      "display_name": "Python 3",
      "name": "python3"
    },
    "language_info": {
      "name": "python"
    }
  },
  "nbformat": 4,
  "nbformat_minor": 0
}
