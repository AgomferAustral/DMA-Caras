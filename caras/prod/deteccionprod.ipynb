{
  "cells": [
    {
      "cell_type": "markdown",
      "metadata": {
        "colab_type": "text",
        "id": "view-in-github"
      },
      "source": [
        "<a href=\"https://colab.research.google.com/github/AgomferAustral/DMA-Caras/blob/main/caras/prod/deteccionprod.ipynb\" target=\"_parent\"><img src=\"https://colab.research.google.com/assets/colab-badge.svg\" alt=\"Open In Colab\"/></a>"
      ]
    },
    {
      "cell_type": "markdown",
      "metadata": {
        "id": "AolPbLzpieGM"
      },
      "source": [
        "#Recorte de caras en las imagenes para producción\n",
        "###Version 1.0\n",
        "##Fotos originales en: Origen\n",
        "##Fotos recortadas en: Detectadasprod"
      ]
    },
    {
      "cell_type": "code",
      "execution_count": null,
      "metadata": {
        "id": "fzf6_sScicZG"
      },
      "outputs": [],
      "source": [
        "import os\n",
        "\n",
        "if not os.path.exists('/content/drive/MyDrive'): \n",
        "    from google.colab import drive \n",
        "    drive.mount('/content/drive')"
      ]
    },
    {
      "cell_type": "markdown",
      "metadata": {
        "id": "lVyZwlLfi7cs"
      },
      "source": [
        "## Cargar las librerias que vamos a utilizar\n"
      ]
    },
    {
      "cell_type": "code",
      "execution_count": 11,
      "metadata": {
        "id": "7ilE3M_xi4aY"
      },
      "outputs": [],
      "source": [
        "import sys\n",
        "import subprocess\n",
        "\n",
        "\n",
        "def instalar_si_falta(paquete, nombre_import=None):\n",
        "    if nombre_import is None:\n",
        "        nombre_import = paquete\n",
        "    try:\n",
        "        __import__(nombre_import)\n",
        "    except ImportError:\n",
        "        print(f\"Instalando {paquete}...\")\n",
        "        subprocess.check_call([sys.executable, \"-m\", \"pip\", \"install\", paquete])\n",
        "\n",
        "# Lista de paquetes a instalar/importar\n",
        "paquetes = [\n",
        "    (\"cv2\", \"opencv-python\"),\n",
        "    (\"numpy\", \"numpy\"),\n",
        "    (\"PIL\", \"Pillow\"),\n",
        "    (\"math\", \"math\")\n",
        "]\n",
        "\n",
        "for nombre_import, paquete in paquetes:\n",
        "    instalar_si_falta(paquete, nombre_import)\n",
        "\n",
        "# Ahora puedes importar normalmente\n",
        "import cv2\n",
        "import numpy as np\n",
        "from PIL import Image\n",
        "import math\n"
      ]
    },
    {
      "cell_type": "markdown",
      "metadata": {
        "id": "qnxOsKHBjNZr"
      },
      "source": [
        "# Detectamos caras en imagenes\n",
        "## La carpeta de origen se llama fotos\n",
        "## y las guardamos en Detectadas"
      ]
    },
    {
      "cell_type": "code",
      "execution_count": 6,
      "metadata": {
        "colab": {
          "base_uri": "https://localhost:8080/"
        },
        "id": "O36xQwUBi4Wh",
        "outputId": "90c425e9-786c-4181-eee7-d2cef9e18949"
      },
      "outputs": [
        {
          "name": "stdout",
          "output_type": "stream",
          "text": [
            "Detectando Caras ...\n",
            "Ruta principal: /content/drive/MyDrive/fotos\n",
            "Carpeta actual: /content/drive/MyDrive/fotos\n",
            "Archivo: IMG_1100.JPG\n",
            "✅ Guardado: /content/drive/MyDrive/Detectadasprod/./IMG_1100_face0.jpg\n",
            "Archivo: IMG_1098.JPG\n",
            "✅ Guardado: /content/drive/MyDrive/Detectadasprod/./IMG_1098_face0.jpg\n",
            "Archivo: IMG_1099.JPG\n",
            "✅ Guardado: /content/drive/MyDrive/Detectadasprod/./IMG_1099_face0.jpg\n",
            "✅ Guardado: /content/drive/MyDrive/Detectadasprod/./IMG_1099_face1.jpg\n",
            "Archivo: IMG_1284.jpeg\n",
            "✅ Guardado: /content/drive/MyDrive/Detectadasprod/./IMG_1284_face0.jpg\n",
            "Archivo: IMG_1095.JPG\n",
            "✅ Guardado: /content/drive/MyDrive/Detectadasprod/./IMG_1095_face0.jpg\n",
            "Archivo: IMG_1283.jpeg\n",
            "Archivo: 1742907849861.jpg\n",
            "✅ Guardado: /content/drive/MyDrive/Detectadasprod/./1742907849861_face0.jpg\n",
            "Archivo: IMG_6816.jpeg\n",
            "✅ Guardado: /content/drive/MyDrive/Detectadasprod/./IMG_6816_face0.jpg\n",
            "Archivo: IMG_1067.JPG\n",
            "✅ Guardado: /content/drive/MyDrive/Detectadasprod/./IMG_1067_face0.jpg\n",
            "Archivo: IMG_1252.jpeg\n",
            "✅ Guardado: /content/drive/MyDrive/Detectadasprod/./IMG_1252_face0.jpg\n",
            "Archivo: 20250321_140311.jpg\n",
            "✅ Guardado: /content/drive/MyDrive/Detectadasprod/./20250321_140311_face0.jpg\n",
            "Archivo: IMG_7598.JPG\n",
            "✅ Guardado: /content/drive/MyDrive/Detectadasprod/./IMG_7598_face0.jpg\n",
            "Archivo: FBC2385B-C170-4DFF-8326-427CA84D31AE_1_105_c.jpeg\n",
            "✅ Guardado: /content/drive/MyDrive/Detectadasprod/./FBC2385B-C170-4DFF-8326-427CA84D31AE_1_105_c_face0.jpg\n",
            "Archivo: IMG_1103.JPG\n",
            "✅ Guardado: /content/drive/MyDrive/Detectadasprod/./IMG_1103_face0.jpg\n",
            "Archivo: 20250321_170525.jpg\n",
            "✅ Guardado: /content/drive/MyDrive/Detectadasprod/./20250321_170525_face0.jpg\n",
            "Archivo: IMG_6805.jpeg\n",
            "✅ Guardado: /content/drive/MyDrive/Detectadasprod/./IMG_6805_face0.jpg\n",
            "✅ Guardado: /content/drive/MyDrive/Detectadasprod/./IMG_6805_face1.jpg\n",
            "Archivo: IMG_1256.jpeg\n",
            "✅ Guardado: /content/drive/MyDrive/Detectadasprod/./IMG_1256_face0.jpg\n",
            "Archivo: 1742907849966.jpg\n",
            "✅ Guardado: /content/drive/MyDrive/Detectadasprod/./1742907849966_face0.jpg\n",
            "Detección inicial terminada ...\n",
            "Para entrenamiento, hay que limpiar manualmente la carpeta de salida, para eliminar los recortes que no son rostros.\n"
          ]
        }
      ],
      "source": [
        "face_cascade = cv2.CascadeClassifier(cv2.data.haarcascades + \"haarcascade_frontalface_default.xml\")\n",
        "\n",
        "# Definicion de ruta de conexion - Origen - Destino imagenes\n",
        "\n",
        "img_size=(120,120)\n",
        "\n",
        "ruta_entrada = '/content/drive/MyDrive/fotos'\n",
        "ruta_salida = f'/content/drive/MyDrive/Detectadasprod'\n",
        "\n",
        "\n",
        "# prompt: verificar si la carpeta en \"ruta_salida\" existe. Si no existe, crearla\n",
        "\n",
        "if not os.path.exists(ruta_salida):\n",
        "  os.makedirs(ruta_salida)\n",
        "\n",
        "def procesar_archivos_en_carpetas(ruta_principal,ruta_final, imgsize):\n",
        "  \"\"\"Recorre las carpetas dentro de la ruta principal y procesa los archivos.\n",
        "\n",
        "  Args:\n",
        "    ruta_principal: La ruta de la carpeta principal.\n",
        "  \"\"\"\n",
        "\n",
        "\n",
        "  x_inicial = 0\n",
        "  y_inicial = 0\n",
        "  alto = imgsize[1]\n",
        "  ancho = imgsize[0]\n",
        "  img_size = (ancho ,alto)\n",
        "\n",
        "\n",
        "\n",
        "  print(f\"Ruta principal: {ruta_principal}\")\n",
        "  for carpeta_actual, _, archivos in os.walk(ruta_principal):\n",
        "    print(f\"Carpeta actual: {carpeta_actual}\")\n",
        "    for archivo in archivos:\n",
        "      print(f\"Archivo: {archivo}\")\n",
        "      ruta_completa = os.path.join(carpeta_actual, archivo)\n",
        "      try:\n",
        "\n",
        "            img = cv2.imread(ruta_completa, cv2.IMREAD_GRAYSCALE)\n",
        "\n",
        "            img = cv2.normalize(img, None, 0, 255, cv2.NORM_MINMAX)\n",
        "\n",
        "            if img is None:\n",
        "                print(f\"⚠️ No se pudo leer: {ruta_completa}\")\n",
        "                continue\n",
        "\n",
        "            # Detectar rostros\n",
        "            faces = face_cascade.detectMultiScale(img, scaleFactor=1.1, minNeighbors=10, minSize=(110, 110))\n",
        "\n",
        "            for i, (x, y, w, h) in enumerate(faces):\n",
        "                face = img[y:y+h, x:x+w]  # Recortar rostro\n",
        "                face_resized = cv2.resize(face, img_size)  # Redimensionar\n",
        "\n",
        "                face_cutted = face_resized[y_inicial:y_inicial+alto, x_inicial:x_inicial+ancho]\n",
        "\n",
        "                # Crear carpeta de salida manteniendo la estructura original\n",
        "                relative_path = os.path.relpath(carpeta_actual, ruta_entrada)\n",
        "                output_folder = os.path.join(ruta_salida, relative_path)\n",
        "                os.makedirs(output_folder, exist_ok=True)\n",
        "\n",
        "                # Guardar rostro detectado\n",
        "                output_path = os.path.join(output_folder, f\"{os.path.splitext(archivo)[0]}_face{i}.jpg\")\n",
        "                cv2.imwrite(output_path, face_cutted)\n",
        "                print(f\"✅ Guardado: {output_path}\")\n",
        "\n",
        "\n",
        "      except Exception as e:\n",
        "          print(f\"❌ Error procesando {ruta_completa}: {e}\")\n",
        "\n",
        "\n",
        "      except Exception as e:\n",
        "        print(f\"Error al procesar el archivo {ruta_completa}: {e}\")\n",
        "\n",
        "# Deteccion de caras (escala de grises, recortes y escalado)\n",
        "print(\"Detectando Caras ...\")\n",
        "procesar_archivos_en_carpetas(ruta_entrada, ruta_salida, img_size)\n",
        "print(\"Detección inicial terminada ...\")\n",
        "print(\"Para entrenamiento, hay que limpiar manualmente la carpeta de salida, para eliminar los recortes que no son rostros.\")"
      ]
    },
    {
      "cell_type": "code",
      "execution_count": 12,
      "metadata": {
        "colab": {
          "base_uri": "https://localhost:8080/"
        },
        "id": "IHqB1vY4i4Sf",
        "outputId": "4757db4f-3a28-4f7d-c78d-e31637be93bd"
      },
      "outputs": [
        {
          "name": "stdout",
          "output_type": "stream",
          "text": [
            "Detectar Caras ...\n",
            "Ruta principal: /content/drive/MyDrive/Detectadasprod\n",
            "Carpeta actual: /content/drive/MyDrive/Detectadasprod\n",
            "Archivo: IMG_1100_face0.jpg\n",
            "✅ Guardado: /content/drive/MyDrive/Detectadasprod2/./IMG_1100_face0_face0.jpg\n",
            "Archivo: IMG_1098_face0.jpg\n",
            "✅ Guardado: /content/drive/MyDrive/Detectadasprod2/./IMG_1098_face0_face0.jpg\n",
            "Archivo: IMG_1099_face0.jpg\n",
            "✅ Guardado: /content/drive/MyDrive/Detectadasprod2/./IMG_1099_face0_face0.jpg\n",
            "Archivo: IMG_1099_face1.jpg\n",
            "✅ Guardado: /content/drive/MyDrive/Detectadasprod2/./IMG_1099_face1_face0.jpg\n",
            "Archivo: IMG_1284_face0.jpg\n",
            "✅ Guardado: /content/drive/MyDrive/Detectadasprod2/./IMG_1284_face0_face0.jpg\n",
            "Archivo: IMG_1095_face0.jpg\n",
            "✅ Guardado: /content/drive/MyDrive/Detectadasprod2/./IMG_1095_face0_face0.jpg\n",
            "Archivo: 1742907849861_face0.jpg\n",
            "Archivo: IMG_6816_face0.jpg\n",
            "✅ Guardado: /content/drive/MyDrive/Detectadasprod2/./IMG_6816_face0_face0.jpg\n",
            "Archivo: IMG_1067_face0.jpg\n",
            "✅ Guardado: /content/drive/MyDrive/Detectadasprod2/./IMG_1067_face0_face0.jpg\n",
            "Archivo: IMG_1252_face0.jpg\n",
            "✅ Guardado: /content/drive/MyDrive/Detectadasprod2/./IMG_1252_face0_face0.jpg\n",
            "Archivo: 20250321_140311_face0.jpg\n",
            "✅ Guardado: /content/drive/MyDrive/Detectadasprod2/./20250321_140311_face0_face0.jpg\n",
            "Archivo: IMG_7598_face0.jpg\n",
            "✅ Guardado: /content/drive/MyDrive/Detectadasprod2/./IMG_7598_face0_face0.jpg\n",
            "Archivo: FBC2385B-C170-4DFF-8326-427CA84D31AE_1_105_c_face0.jpg\n",
            "✅ Guardado: /content/drive/MyDrive/Detectadasprod2/./FBC2385B-C170-4DFF-8326-427CA84D31AE_1_105_c_face0_face0.jpg\n",
            "Archivo: IMG_1103_face0.jpg\n",
            "✅ Guardado: /content/drive/MyDrive/Detectadasprod2/./IMG_1103_face0_face0.jpg\n",
            "Archivo: 20250321_170525_face0.jpg\n",
            "✅ Guardado: /content/drive/MyDrive/Detectadasprod2/./20250321_170525_face0_face0.jpg\n",
            "Archivo: IMG_6805_face0.jpg\n",
            "✅ Guardado: /content/drive/MyDrive/Detectadasprod2/./IMG_6805_face0_face0.jpg\n",
            "Archivo: IMG_6805_face1.jpg\n",
            "Archivo: IMG_1256_face0.jpg\n",
            "✅ Guardado: /content/drive/MyDrive/Detectadasprod2/./IMG_1256_face0_face0.jpg\n",
            "Archivo: 1742907849966_face0.jpg\n",
            "✅ Guardado: /content/drive/MyDrive/Detectadasprod2/./1742907849966_face0_face0.jpg\n",
            "Detección y ajuste de tamaño terminado ...\n"
          ]
        }
      ],
      "source": [
        "# Verificar si la carpeta de salida existe, si no, crearla\n",
        "img_size = (80, 80)\n",
        "ruta_entrada = '/content/drive/MyDrive/Detectadasprod'\n",
        "ruta_salida = '/content/drive/MyDrive/Detectadasprod2'\n",
        "\n",
        "if not os.path.exists(ruta_salida):\n",
        "    os.makedirs(ruta_salida)\n",
        "\n",
        "# Inicializar el clasificador de rostros de OpenCV\n",
        "face_cascade = cv2.CascadeClassifier(\n",
        "    cv2.data.haarcascades + \"haarcascade_frontalface_default.xml\"\n",
        ")\n",
        "\n",
        "def procesar_archivos_en_carpetas(ruta_principal, ruta_final, imgsize):\n",
        "    \"\"\"\n",
        "    Recorre las carpetas dentro de la ruta principal y procesa los archivos.\n",
        "    Args:\n",
        "        ruta_principal: La ruta de la carpeta principal.\n",
        "        ruta_final: La ruta de la carpeta de salida.\n",
        "        imgsize: Tupla con el tamaño de la imagen de salida.\n",
        "    \"\"\"\n",
        "    fraccion = 8\n",
        "    x_inicial = imgsize[0] // (fraccion - 2)\n",
        "    y_inicial = imgsize[1] // (fraccion - 2)\n",
        "    alto = imgsize[1]\n",
        "    ancho = imgsize[0]\n",
        "    multip = fraccion / (fraccion - 2)\n",
        "    img_size = (math.floor(ancho * multip), math.floor(alto * multip))\n",
        "\n",
        "    print(f\"Ruta principal: {ruta_principal}\")\n",
        "    for carpeta_actual, _, archivos in os.walk(ruta_principal):\n",
        "        print(f\"Carpeta actual: {carpeta_actual}\")\n",
        "        for archivo in archivos:\n",
        "            print(f\"Archivo: {archivo}\")\n",
        "            ruta_completa = os.path.join(carpeta_actual, archivo)\n",
        "            try:\n",
        "                img = cv2.imread(ruta_completa, cv2.IMREAD_GRAYSCALE)\n",
        "                if img is None:\n",
        "                    print(f\"⚠️ No se pudo leer: {ruta_completa}\")\n",
        "                    continue\n",
        "\n",
        "                img = cv2.normalize(img, None, 0, 255, cv2.NORM_MINMAX)\n",
        "\n",
        "                # Detectar rostros\n",
        "                faces = face_cascade.detectMultiScale(\n",
        "                    img,\n",
        "                    scaleFactor=1.1,\n",
        "                    minNeighbors=10,\n",
        "                    minSize=(80, 80)\n",
        "                )\n",
        "\n",
        "                for i, (x, y, w, h) in enumerate(faces):\n",
        "                    face = img[y:y + h, x:x + w]  # Recortar rostro\n",
        "                    face_resized = cv2.resize(face, img_size)  # Redimensionar\n",
        "                    face_cutted = face_resized[\n",
        "                        y_inicial:y_inicial + alto,\n",
        "                        x_inicial:x_inicial + ancho\n",
        "                    ]\n",
        "\n",
        "                    # Crear carpeta de salida manteniendo la estructura original\n",
        "                    relative_path = os.path.relpath(carpeta_actual, ruta_entrada)\n",
        "                    output_folder = os.path.join(ruta_salida, relative_path)\n",
        "                    os.makedirs(output_folder, exist_ok=True)\n",
        "\n",
        "                    # Guardar rostro detectado\n",
        "                    output_path = os.path.join(\n",
        "                        output_folder,\n",
        "                        f\"{os.path.splitext(archivo)[0]}_face{i}.jpg\"\n",
        "                    )\n",
        "                    cv2.imwrite(output_path, face_cutted)\n",
        "                    print(f\"✅ Guardado: {output_path}\")\n",
        "\n",
        "            except Exception as e:\n",
        "                print(f\"❌ Error procesando {ruta_completa}: {e}\")\n",
        "\n",
        "print(\"Detectar Caras ...\")\n",
        "procesar_archivos_en_carpetas(ruta_entrada, ruta_salida, img_size)\n",
        "print(\"Detección y ajuste de tamaño terminado ...\")"
      ]
    },
    {
      "cell_type": "code",
      "execution_count": null,
      "metadata": {
        "id": "CahByDyZi4Oo"
      },
      "outputs": [],
      "source": []
    },
    {
      "cell_type": "code",
      "execution_count": null,
      "metadata": {
        "id": "YoZXIiaQi4J4"
      },
      "outputs": [],
      "source": []
    },
    {
      "cell_type": "code",
      "execution_count": null,
      "metadata": {
        "id": "Rr4fJB5Ki4Ep"
      },
      "outputs": [],
      "source": []
    }
  ],
  "metadata": {
    "colab": {
      "include_colab_link": true,
      "provenance": []
    },
    "kernelspec": {
      "display_name": "Python 3",
      "name": "python3"
    },
    "language_info": {
      "name": "python"
    }
  },
  "nbformat": 4,
  "nbformat_minor": 0
}
