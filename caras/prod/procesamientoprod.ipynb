{
  "cells": [
    {
      "cell_type": "markdown",
      "metadata": {
        "colab_type": "text",
        "id": "view-in-github"
      },
      "source": [
        "<a href=\"https://colab.research.google.com/github/AgomferAustral/DMA-Caras/blob/main/procesamientoprod.ipynb\" target=\"_parent\"><img src=\"https://colab.research.google.com/assets/colab-badge.svg\" alt=\"Open In Colab\"/></a>"
      ]
    },
    {
      "cell_type": "markdown",
      "metadata": {
        "id": "oECstK4VkHHy"
      },
      "source": [
        "# Preprocesamiento produccion\n",
        "### Version 1.0\n",
        "##Origen de imagenes en carpeta Detectadasprod\n",
        "##Destino de imagenes en carpeta Detectadasprod2\n",
        "##Procesamiento para Identificacion\n"
      ]
    },
    {
      "cell_type": "code",
      "execution_count": null,
      "metadata": {
        "id": "mBn9ImIjkAq4"
      },
      "outputs": [],
      "source": [
        "import os\n",
        "\n",
        "import cv2\n",
        "import numpy as np\n",
        "\n",
        "\n",
        "if not os.path.exists('/content/drive/MyDrive'):\n",
        "    from google.colab import drive \n",
        "    drive.mount('/content/drive') "
      ]
    },
    {
      "cell_type": "markdown",
      "metadata": {
        "id": "KYjfj2_Wkj0v"
      },
      "source": [
        "#Preprocesamos imagenes 01\n",
        "## La carpeta de origen se llama Detectadasprod\n",
        "## La carpeta de destino es Detectadasprod2"
      ]
    },
    {
      "cell_type": "code",
      "execution_count": null,
      "metadata": {
        "id": "UwYP1494kkWO"
      },
      "outputs": [],
      "source": [
        "# Definición de rutas y tamaño de imagen\n",
        "\n",
        "RUTA_ENTRADA = '/content/drive/MyDrive/Detectadasprod2'\n",
        "RUTA_SALIDA = '/content/drive/MyDrive/Detectadasprod21'\n",
        "\n",
        "if not os.path.exists(RUTA_SALIDA):\n",
        "    os.makedirs(RUTA_SALIDA)\n",
        "\n",
        "def procesar_archivos_en_carpetas(ruta_principal, ruta_final):\n",
        "    \"\"\"\n",
        "    Recorre las carpetas dentro de la ruta principal y procesa los archivos.\n",
        "    Aplica CLAHE y corrección gamma a cada imagen.\n",
        "    Guarda las imágenes procesadas en la carpeta de salida manteniendo la estructura.\n",
        "    \"\"\"\n",
        "    clahe = cv2.createCLAHE(clipLimit=2.0, tileGridSize=(8, 8))\n",
        "    gamma = 1.5\n",
        "    inv_gamma = 1.0 / gamma\n",
        "    table = np.array([((i / 255.0) ** inv_gamma) * 255 for i in np.arange(256)]).astype(\"uint8\")\n",
        "\n",
        "    print(f\"Ruta principal: {ruta_principal}\")\n",
        "    for carpeta_actual, _, archivos in os.walk(ruta_principal):\n",
        "        print(f\"Carpeta actual: {carpeta_actual}\")\n",
        "        for archivo in archivos:\n",
        "            print(f\"Archivo: {archivo}\")\n",
        "            ruta_completa = os.path.join(carpeta_actual, archivo)\n",
        "            try:\n",
        "                img = cv2.imread(ruta_completa, cv2.IMREAD_GRAYSCALE)\n",
        "                if img is None:\n",
        "                    print(f\"⚠️ No se pudo leer: {ruta_completa}\")\n",
        "                    continue\n",
        "\n",
        "                # Ecualización adaptativa CLAHE\n",
        "                img = clahe.apply(img)\n",
        "                # Corrección gamma\n",
        "                img = cv2.LUT(img, table)\n",
        "\n",
        "                # Crear carpeta de salida manteniendo la estructura original\n",
        "                relative_path = os.path.relpath(carpeta_actual, ruta_principal)\n",
        "                output_folder = os.path.join(ruta_final, relative_path)\n",
        "                os.makedirs(output_folder, exist_ok=True)\n",
        "\n",
        "                # Guardar imagen procesada\n",
        "                output_path = os.path.join(output_folder, archivo)\n",
        "                cv2.imwrite(output_path, img)\n",
        "                print(f\"✅ Guardado: {output_path}\")\n",
        "\n",
        "            except Exception as e:\n",
        "                print(f\"❌ Error procesando {ruta_completa}: {e}\")\n",
        "\n",
        "print(\"Procesando archivos\")\n",
        "procesar_archivos_en_carpetas(RUTA_ENTRADA, RUTA_SALIDA)\n",
        "print(\"Proceso inicial terminado ...\")"
      ]
    },
    {
      "cell_type": "code",
      "execution_count": null,
      "metadata": {
        "id": "RvchfitCklRE"
      },
      "outputs": [],
      "source": []
    },
    {
      "cell_type": "code",
      "execution_count": null,
      "metadata": {
        "id": "FbYr9xzjklNj"
      },
      "outputs": [],
      "source": []
    },
    {
      "cell_type": "code",
      "execution_count": null,
      "metadata": {
        "id": "NXqoFHZfklKY"
      },
      "outputs": [],
      "source": []
    },
    {
      "cell_type": "code",
      "execution_count": null,
      "metadata": {
        "id": "nXUpamg6klG2"
      },
      "outputs": [],
      "source": []
    },
    {
      "cell_type": "code",
      "execution_count": null,
      "metadata": {
        "id": "kioWf9ImklDZ"
      },
      "outputs": [],
      "source": []
    },
    {
      "cell_type": "code",
      "execution_count": null,
      "metadata": {
        "id": "GQmf0OIXkk_h"
      },
      "outputs": [],
      "source": []
    },
    {
      "cell_type": "code",
      "execution_count": null,
      "metadata": {
        "id": "OZTpY-4ukk7h"
      },
      "outputs": [],
      "source": []
    },
    {
      "cell_type": "code",
      "execution_count": null,
      "metadata": {
        "id": "koDzqvmKkk3K"
      },
      "outputs": [],
      "source": []
    }
  ],
  "metadata": {
    "colab": {
      "authorship_tag": "ABX9TyN6ocDq/Bwfznbt7YIt76LI",
      "include_colab_link": true,
      "provenance": []
    },
    "kernelspec": {
      "display_name": "Python 3",
      "name": "python3"
    },
    "language_info": {
      "name": "python"
    }
  },
  "nbformat": 4,
  "nbformat_minor": 0
}
