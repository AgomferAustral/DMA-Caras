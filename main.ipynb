{
  "nbformat": 4,
  "nbformat_minor": 0,
  "metadata": {
    "colab": {
      "provenance": [],
      "authorship_tag": "ABX9TyPu+3BuhkLMfi9pR8rf7Rc3",
      "include_colab_link": true
    },
    "kernelspec": {
      "name": "python3",
      "display_name": "Python 3"
    },
    "language_info": {
      "name": "python"
    }
  },
  "cells": [
    {
      "cell_type": "markdown",
      "metadata": {
        "id": "view-in-github",
        "colab_type": "text"
      },
      "source": [
        "<a href=\"https://colab.research.google.com/github/AgomferAustral/DMA-Caras/blob/main/main.ipynb\" target=\"_parent\"><img src=\"https://colab.research.google.com/assets/colab-badge.svg\" alt=\"Open In Colab\"/></a>"
      ]
    },
    {
      "cell_type": "markdown",
      "source": [
        "#Main entrenamiento\n",
        "### Version 1.0\n",
        "## Pipeline para entrenamiento"
      ],
      "metadata": {
        "id": "VmwXU0k2fKXn"
      }
    },
    {
      "cell_type": "code",
      "execution_count": null,
      "metadata": {
        "id": "M0TcxaJjfFN4"
      },
      "outputs": [],
      "source": [
        "import os\n",
        "\n",
        "if not os.path.exists('/content/drive/MyDrive'):\n",
        "    from google.colab import drive\n",
        "    drive.mount('/content/drive')"
      ]
    },
    {
      "cell_type": "code",
      "source": [
        "# Bibliotecas necesarias\n",
        "\n",
        "import sys\n",
        "import subprocess\n",
        "\n",
        "def instalar_si_falta(paquete):\n",
        "    try:\n",
        "        __import__(paquete)\n",
        "    except ImportError:\n",
        "        print(f\"Instalando {paquete}...\")\n",
        "        subprocess.check_call([sys.executable, \"-m\", \"pip\", \"install\", paquete])\n",
        "\n",
        "instalar_si_falta(\"nbformat\")\n",
        "instalar_si_falta(\"nbclient\")\n",
        "\n",
        "import nbformat\n",
        "from nbclient import NotebookClient"
      ],
      "metadata": {
        "id": "VL2vCAlOfLv1"
      },
      "execution_count": null,
      "outputs": []
    },
    {
      "cell_type": "code",
      "source": [
        "# Función para ejecutar un notebook\n",
        "# en Google Colab\n",
        "def ejecutar_notebook(ruta_notebook):\n",
        "    with open(ruta_notebook) as f:\n",
        "        nb = nbformat.read(f, as_version=4)\n",
        "    client = NotebookClient(nb)\n",
        "    client.execute()\n",
        "    print(f\"Notebook ejecutado: {ruta_notebook}\")\n"
      ],
      "metadata": {
        "id": "kYa4o_upfLr-"
      },
      "execution_count": null,
      "outputs": []
    },
    {
      "cell_type": "code",
      "source": [
        "# Rutas a los notebooks\n",
        "base_path = \"/content/drive/MyDrive/caras/app/\"\n",
        "\n",
        "notebooks = [\n",
        "    \"deteccion.ipynb\",\n",
        "    \"aumentacion.ipynb\",\n",
        "    \"deteccionaumentadas.ipynb\",\n",
        "    \"procesamiento.ipynb\",\n",
        "    \"separacion.ipynb\",\n",
        "    \"isomap.ipynb\"\n",
        "    \"entrenamiento.ipynb\"\n",
        "]\n"
      ],
      "metadata": {
        "id": "Oy9Dk6rvfLoN"
      },
      "execution_count": null,
      "outputs": []
    },
    {
      "cell_type": "code",
      "source": [
        "# Ejecuto los notebooks\n",
        "\n",
        "for nb_nombre in notebooks:\n",
        "    ejecutar_notebook(base_path + nb_nombre)"
      ],
      "metadata": {
        "id": "6KR1rsaafLjU"
      },
      "execution_count": null,
      "outputs": []
    },
    {
      "cell_type": "code",
      "source": [],
      "metadata": {
        "id": "Q2CbD8wSfLbm"
      },
      "execution_count": null,
      "outputs": []
    },
    {
      "cell_type": "code",
      "source": [],
      "metadata": {
        "id": "DdvhEod1fLXe"
      },
      "execution_count": null,
      "outputs": []
    }
  ]
}