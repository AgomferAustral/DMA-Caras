{
 "cells": [
  {
   "cell_type": "code",
   "execution_count": 4,
   "metadata": {},
   "outputs": [],
   "source": [
    "import numpy as np\n",
    "from PIL import Image  # Para leer imágenes si no están ya en formato numpy\n",
    "from sklearn.decomposition import PCA\n",
    "import matplotlib.pyplot as plt\n"
   ]
  },
  {
   "cell_type": "code",
   "execution_count": 5,
   "metadata": {},
   "outputs": [],
   "source": [
    "def obtener_componentes_principales(imagenes, n_componentes=None):\n",
    "    \"\"\"\n",
    "    Calcula los componentes principales de un conjunto de imágenes.\n",
    "\n",
    "    Args:\n",
    "        imagenes (list or numpy.ndarray): Lista de imágenes (numpy arrays)\n",
    "                                        o un numpy array de imágenes.\n",
    "                                        Cada imagen debe ser de 30x30.\n",
    "        n_componentes (int, optional): Número de componentes principales a mantener.\n",
    "                                      Si es None, se mantienen todos.  Por defecto None.\n",
    "\n",
    "    Returns:\n",
    "        tuple: Un tuple que contiene:\n",
    "            - pca (sklearn.decomposition.PCA): El objeto PCA ajustado a los datos.\n",
    "            - componentes_principales (numpy.ndarray): Los componentes principales.\n",
    "                                                     Cada fila es un componente principal.\n",
    "            - imagenes_transformadas (numpy.ndarray): Las imágenes transformadas al espacio de componentes principales.\n",
    "            - varianza_explicada (numpy.ndarray): La varianza explicada por cada componente.\n",
    "    \"\"\"\n",
    "\n",
    "    # 1. Preparar los datos: Aplanar las imágenes y apilarlas en una matriz\n",
    "    n_imagenes = len(imagenes)\n",
    "    filas, columnas = imagenes[0].shape  # Deberían ser 30x30\n",
    "    datos = np.zeros((n_imagenes, filas * columnas))\n",
    "\n",
    "    for i, imagen in enumerate(imagenes):\n",
    "        # Convertir a numpy array si no lo es\n",
    "        if not isinstance(imagen, np.ndarray):\n",
    "            imagen = np.array(imagen)  # Asumiendo que 'imagen' puede ser convertida a numpy array\n",
    "        datos[i, :] = imagen.flatten()  # Aplanar cada imagen en una fila\n",
    "\n",
    "    # 2. Crear y ajustar el modelo PCA\n",
    "    pca = PCA(n_components=n_componentes)  # n_components=None para mantener todos\n",
    "\n",
    "    # Ajustar el modelo a los datos y transformar los datos\n",
    "    imagenes_transformadas = pca.fit_transform(datos)\n",
    "\n",
    "    # 3. Obtener los componentes principales\n",
    "    componentes_principales = pca.components_\n",
    "\n",
    "    # 4. Obtener la varianza explicada\n",
    "    varianza_explicada = pca.explained_variance_ratio_\n",
    "\n",
    "    return pca, componentes_principales, imagenes_transformadas, varianza_explicada\n",
    "\n"
   ]
  },
  {
   "cell_type": "code",
   "execution_count": 6,
   "metadata": {},
   "outputs": [],
   "source": [
    "\n",
    "def visualizar_componentes(componentes, filas, columnas, n_componentes_a_mostrar=10):\n",
    "    \"\"\"\n",
    "    Visualiza los primeros n componentes principales como imágenes.\n",
    "\n",
    "    Args:\n",
    "        componentes (numpy.ndarray): Los componentes principales (PCA.components_).\n",
    "        filas (int): Número de filas de la imagen original.\n",
    "        columnas (int): Número de columnas de la imagen original.\n",
    "        n_componentes_a_mostrar (int): Número de componentes a mostrar.\n",
    "    \"\"\"\n",
    "\n",
    "    plt.figure(figsize=(12, 6))\n",
    "    for i in range(min(n_componentes_a_mostrar, componentes.shape[0])):\n",
    "        componente = componentes[i, :].reshape(filas, columnas)\n",
    "        plt.subplot(2, 5, i + 1)  # Ajustar subplot según sea necesario\n",
    "        plt.imshow(componente, cmap='gray')  # Usar cmap='gray' para imágenes en escala de grises\n",
    "        plt.title(f\"Componente {i + 1}\")\n",
    "        plt.axis('off')\n",
    "    plt.tight_layout()\n",
    "    plt.show()\n",
    "\n"
   ]
  },
  {
   "cell_type": "code",
   "execution_count": 7,
   "metadata": {},
   "outputs": [
    {
     "ename": "NameError",
     "evalue": "name 'componentes_principales' is not defined",
     "output_type": "error",
     "traceback": [
      "\u001b[0;31m---------------------------------------------------------------------------\u001b[0m",
      "\u001b[0;31mNameError\u001b[0m                                 Traceback (most recent call last)",
      "Cell \u001b[0;32mIn[7], line 21\u001b[0m\n\u001b[1;32m      7\u001b[0m imagenes \u001b[38;5;241m=\u001b[39m [np\u001b[38;5;241m.\u001b[39mrandom\u001b[38;5;241m.\u001b[39mrandint(\u001b[38;5;241m0\u001b[39m, \u001b[38;5;241m256\u001b[39m, size\u001b[38;5;241m=\u001b[39m(filas, columnas)) \u001b[38;5;28;01mfor\u001b[39;00m _ \u001b[38;5;129;01min\u001b[39;00m \u001b[38;5;28mrange\u001b[39m(n_imagenes)]\n\u001b[1;32m      9\u001b[0m \u001b[38;5;66;03m# Otra forma de cargar imagenes, utilizando la libreria PIL\u001b[39;00m\n\u001b[1;32m     10\u001b[0m \u001b[38;5;66;03m#imagenes = []\u001b[39;00m\n\u001b[1;32m     11\u001b[0m \u001b[38;5;66;03m#for i in range(n_imagenes):\u001b[39;00m\n\u001b[0;32m   (...)\u001b[0m\n\u001b[1;32m     19\u001b[0m \n\u001b[1;32m     20\u001b[0m \u001b[38;5;66;03m# 3. Imprimir información relevante\u001b[39;00m\n\u001b[0;32m---> 21\u001b[0m \u001b[38;5;28mprint\u001b[39m(\u001b[38;5;124m\"\u001b[39m\u001b[38;5;124mForma de los componentes principales:\u001b[39m\u001b[38;5;124m\"\u001b[39m, \u001b[43mcomponentes_principales\u001b[49m\u001b[38;5;241m.\u001b[39mshape)  \u001b[38;5;66;03m# Debería ser (n_componentes, 30*30)\u001b[39;00m\n\u001b[1;32m     22\u001b[0m \u001b[38;5;28mprint\u001b[39m(\u001b[38;5;124m\"\u001b[39m\u001b[38;5;124mVarianza explicada por cada componente:\u001b[39m\u001b[38;5;124m\"\u001b[39m, varianza_explicada)\n\u001b[1;32m     23\u001b[0m \u001b[38;5;28mprint\u001b[39m(\u001b[38;5;124m\"\u001b[39m\u001b[38;5;124mSuma de la varianza explicada:\u001b[39m\u001b[38;5;124m\"\u001b[39m, np\u001b[38;5;241m.\u001b[39msum(varianza_explicada)) \u001b[38;5;66;03m# Debería acercarse a 1 si retienes suficientes componentes\u001b[39;00m\n",
      "\u001b[0;31mNameError\u001b[0m: name 'componentes_principales' is not defined"
     ]
    }
   ],
   "source": [
    "\n",
    "# Ejemplo de uso:\n",
    "if __name__ == \"__main__\":\n",
    "    # 1. Cargar las imágenes (reemplazar con tu lógica de carga)\n",
    "    # Ejemplo: Crear imágenes de prueba aleatorias (simulando la lectura de archivos)\n",
    "    n_imagenes = 100\n",
    "    filas, columnas = 30, 30\n",
    "    imagenes = [np.random.randint(0, 256, size=(filas, columnas)) for _ in range(n_imagenes)]\n",
    "\n",
    "    # Otra forma de cargar imagenes, utilizando la libreria PIL\n",
    "    #imagenes = []\n",
    "    #for i in range(n_imagenes):\n",
    "    #    # Puedes reemplazar 'imagen_{i}.png' con la ruta real a tus imágenes\n",
    "    #    try:\n",
    "    #        imagen = Image.open(f'imagen_{i}.png').convert('L')  # 'L' para escala de grises\n",
    "    #        imagenes.append(np.array(imagen))\n",
    "    #    except FileNotFoundError:\n",
    "    #        print(f\"No se encontró la imagen imagen_{i}.png. Creando una imagen aleatoria en su lugar.\")\n",
    "    #        imagenes.append(np.random.randint(0, 256, size=(filas, columnas)))\n",
    "\n",
    "    # 3. Imprimir información relevante\n",
    "    print(\"Forma de los componentes principales:\", componentes_principales.shape)  # Debería ser (n_componentes, 30*30)\n",
    "    print(\"Varianza explicada por cada componente:\", varianza_explicada)\n",
    "    print(\"Suma de la varianza explicada:\", np.sum(varianza_explicada)) # Debería acercarse a 1 si retienes suficientes componentes\n",
    "\n",
    "    # 4. Visualizar los componentes principales\n",
    "    visualizar_componentes(componentes_principales, filas, columnas, n_componentes_a_mostrar=10)\n",
    "\n",
    "    # 5. Reconstruir una imagen usando los componentes principales (opcional)\n",
    "    # Selecciona una imagen original\n",
    "    indice_imagen = 0\n",
    "    imagen_original = imagenes[indice_imagen]\n",
    "\n",
    "    # Transforma la imagen al espacio de componentes principales\n",
    "    imagen_transformada = imagenes_transformadas[indice_imagen]\n",
    "\n",
    "    # Reconstruye la imagen desde los componentes principales\n",
    "    imagen_reconstruida = pca.inverse_transform(imagen_transformada).reshape(filas, columnas)\n",
    "\n",
    "    # Visualizar la imagen original y la reconstruida\n",
    "    plt.figure(figsize=(8, 4))\n",
    "    plt.subplot(1, 2, 1)\n",
    "    plt.imshow(imagen_original, cmap='gray')\n",
    "    plt.title(\"Imagen Original\")\n",
    "    plt.axis('off')\n",
    "\n",
    "    plt.subplot(1, 2, 2)\n",
    "    plt.imshow(imagen_reconstruida, cmap='gray')\n",
    "    plt.title(\"Imagen Reconstruida\")\n",
    "    plt.axis('off')\n",
    "\n",
    "    plt.tight_layout()\n",
    "    plt.show()"
   ]
  },
  {
   "cell_type": "code",
   "execution_count": null,
   "metadata": {},
   "outputs": [],
   "source": []
  },
  {
   "cell_type": "code",
   "execution_count": null,
   "metadata": {},
   "outputs": [],
   "source": []
  },
  {
   "cell_type": "code",
   "execution_count": null,
   "metadata": {},
   "outputs": [],
   "source": []
  },
  {
   "cell_type": "code",
   "execution_count": null,
   "metadata": {},
   "outputs": [],
   "source": []
  },
  {
   "cell_type": "code",
   "execution_count": null,
   "metadata": {},
   "outputs": [],
   "source": []
  },
  {
   "cell_type": "code",
   "execution_count": null,
   "metadata": {},
   "outputs": [],
   "source": []
  },
  {
   "cell_type": "code",
   "execution_count": null,
   "metadata": {},
   "outputs": [],
   "source": []
  },
  {
   "cell_type": "code",
   "execution_count": null,
   "metadata": {},
   "outputs": [],
   "source": []
  },
  {
   "cell_type": "code",
   "execution_count": null,
   "metadata": {},
   "outputs": [],
   "source": []
  }
 ],
 "metadata": {
  "kernelspec": {
   "display_name": "data",
   "language": "python",
   "name": "python3"
  },
  "language_info": {
   "codemirror_mode": {
    "name": "ipython",
    "version": 3
   },
   "file_extension": ".py",
   "mimetype": "text/x-python",
   "name": "python",
   "nbconvert_exporter": "python",
   "pygments_lexer": "ipython3",
   "version": "3.9.7"
  }
 },
 "nbformat": 4,
 "nbformat_minor": 2
}
